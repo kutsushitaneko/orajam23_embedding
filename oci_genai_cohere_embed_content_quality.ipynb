{
 "cells": [
  {
   "cell_type": "code",
   "execution_count": 144,
   "metadata": {},
   "outputs": [],
   "source": [
    "import oci\n",
    "import os\n",
    "from dotenv import load_dotenv, find_dotenv\n",
    "import numpy as np"
   ]
  },
  {
   "cell_type": "code",
   "execution_count": 145,
   "metadata": {},
   "outputs": [],
   "source": [
    "_= load_dotenv(find_dotenv())"
   ]
  },
  {
   "cell_type": "markdown",
   "metadata": {},
   "source": [
    "## OCI認証パラメータの設定"
   ]
  },
  {
   "cell_type": "code",
   "execution_count": 146,
   "metadata": {},
   "outputs": [],
   "source": [
    "CONFIG_PROFILE = \"DEFAULT\" # 構成ファイルに合わせて変更してください。\n",
    "config = oci.config.from_file(file_location='~/.oci/config', profile_name=CONFIG_PROFILE)\n",
    "config[\"region\"] = \"us-chicago-1\""
   ]
  },
  {
   "cell_type": "markdown",
   "metadata": {},
   "source": [
    "## OCI GenAIクライアントの生成"
   ]
  },
  {
   "cell_type": "code",
   "execution_count": 147,
   "metadata": {},
   "outputs": [
    {
     "name": "stdout",
     "output_type": "stream",
     "text": [
      "model_id:cohere.embed-multilingual-v3.0\n"
     ]
    }
   ],
   "source": [
    "compartment_id = os.getenv(\"OCI_COMPARTMENT_ID\") \n",
    "model_id = os.getenv(\"OCI_GENAI_EMBED_MODEL_ID\")\n",
    "print(f\"model_id:{model_id}\")"
   ]
  },
  {
   "cell_type": "code",
   "execution_count": 148,
   "metadata": {},
   "outputs": [],
   "source": [
    "generative_ai_inference_client = oci.generative_ai_inference.GenerativeAiInferenceClient(config=config, retry_strategy=oci.retry.NoneRetryStrategy(), timeout=(10,240))"
   ]
  },
  {
   "cell_type": "markdown",
   "metadata": {},
   "source": [
    "## 埋め込み処理共通のパラメータの設定"
   ]
  },
  {
   "cell_type": "code",
   "execution_count": 149,
   "metadata": {},
   "outputs": [],
   "source": [
    "embed_text_detail = oci.generative_ai_inference.models.EmbedTextDetails()\n",
    "embed_text_detail.serving_mode = oci.generative_ai_inference.models.OnDemandServingMode(model_id=model_id)\n",
    "embed_text_detail.compartment_id = compartment_id"
   ]
  },
  {
   "cell_type": "markdown",
   "metadata": {},
   "source": [
    "## 検索対象のドキュメントの定義"
   ]
  },
  {
   "cell_type": "code",
   "execution_count": 150,
   "metadata": {},
   "outputs": [
    {
     "data": {
      "text/plain": [
       "'\\ndocuments = [\\n    \"COVID-19 has many symptoms.\",\\n    \"COVID-19 symptoms are bad.\",\\n    \"COVID-19 symptoms are not nice\",\\n    \"COVID-19 symptoms are bad. 5G capabilities include more expansive service coverage, a higher number of available connections, and lower power consumption.\",\\n    \"COVID-19 is a disease caused by a virus. The most common symptoms are fever, chills, and sore throat, but there are a range of others.\",\\n    \"COVID-19 symptoms can include: a high temperature or shivering (chills); a new, continuous cough; a loss or change to your sense of smell or taste; and many more\",\\n    \"Dementia has the following symptom: Experiencing memory loss, poor judgment, and confusion.\",\\n    \"COVID-19 has the following symptom: Experiencing memory loss, poor judgment, and confusion.\",\\n]\\n'"
      ]
     },
     "execution_count": 150,
     "metadata": {},
     "output_type": "execute_result"
    }
   ],
   "source": [
    "'''\n",
    "documents = [\n",
    "    \"COVID-19 has many symptoms.\",\n",
    "    \"COVID-19 symptoms are bad.\",\n",
    "    \"COVID-19 symptoms are not nice\",\n",
    "    \"COVID-19 symptoms are bad. 5G capabilities include more expansive service coverage, a higher number of available connections, and lower power consumption.\",\n",
    "    \"COVID-19 is a disease caused by a virus. The most common symptoms are fever, chills, and sore throat, but there are a range of others.\",\n",
    "    \"COVID-19 symptoms can include: a high temperature or shivering (chills); a new, continuous cough; a loss or change to your sense of smell or taste; and many more\",\n",
    "    \"Dementia has the following symptom: Experiencing memory loss, poor judgment, and confusion.\",\n",
    "    \"COVID-19 has the following symptom: Experiencing memory loss, poor judgment, and confusion.\",\n",
    "]\n",
    "'''"
   ]
  },
  {
   "cell_type": "code",
   "execution_count": 151,
   "metadata": {},
   "outputs": [],
   "source": [
    "documents = [\n",
    "    \"COVID-19の症状は？\",\n",
    "    \"COVID-19には多くの症状があります。\",\n",
    "    \"COVID-19の症状は悪いです。\",\n",
    "    \"COVID-19の症状は良くありません\",\n",
    "    \"COVID-19の症状は悪いです。5Gの機能には、より広範なサービスカバレッジ、より多くの利用可能な接続数、および低電力消費が含まれます。\",\n",
    "    \"COVID-19はウイルスによって引き起こされる病気です。最も一般的な症状は発熱、悪寒、および喉の痛みですが、他にもさまざまな症状があります。\",\n",
    "    \"COVID-19の症状には、発熱や悪寒、新しい持続的な咳、嗅覚や味覚の喪失や変化など、さまざまな症状が含まれます。\",\n",
    "    \"認知症には以下の症状があります。記憶喪失、判断力の低下、および混乱を経験すること。\",\n",
    "    \"COVID-19には以下の症状があります。記憶喪失、判断力の低下、および混乱を経験すること。\",\n",
    "    \"COBIT 2019は政府のデジタル・ガバメント計画を支えるガバナンス態勢を整備する際の最適な枠組みです。\",\n",
    "    \"新型コロナ感染症の症状には、発熱や悪寒、新しい持続的な咳、嗅覚や味覚の喪失や変化など、さまざまな症状が含まれます。\",\n",
    "    \"鳥インフルエンザの症状には、高熱、咳、筋肉の痛み、倦怠感、頭痛、その他の症状が含まれます。\",\n",
    "    \"COVID-19は、SARS-CoV-2（新型コロナウイルス）によって引き起こされる感染症です。2019年12月に最初に確認され、その後、世界的なパンデミックとなりました。症状としては、発熱、咳、息切れ、倦怠感、嗅覚や味覚の喪失などがあります。また、感染経路は、主に飛沫感染と接触感染ですが、空気感染の可能性もあります。高齢者や基礎疾患のある方は重症化リスクが高く、死亡率も高いとされています。COVID-19に対しては、ワクチン接種や手洗い、マスク着用、ソーシャルディスタンスなどの予防措置が推奨されています。パンデミックは世界中の医療システムや経済に大きな影響を与えました。\",\n",
    "    \"SGDs（持続可能な開発目標）は、2015年に国連加盟国によって採択された「持続可能な開発のための2030アジェンダ」の中核を成す17の国際目標です。\",\n",
    "    \"ベクトルデータベースは、データをベクトル（数値の配列）として表現し、ベクトル間の類似性に基づいて検索や分析を行うことに特化したデータベースシステムです。\",\n",
    "    \"近似最近傍探索は、高次元空間内で与えられたクエリポイントに最も近い（最も類似した）データポイントを効率的に見つけるアルゴリズムです。\"\n",
    "]"
   ]
  },
  {
   "cell_type": "markdown",
   "metadata": {},
   "source": [
    "## 埋め込むドキュメントと生成する埋め込みのタイプ指定"
   ]
  },
  {
   "cell_type": "code",
   "execution_count": 152,
   "metadata": {},
   "outputs": [],
   "source": [
    "embed_text_detail.inputs = documents\n",
    "embed_text_detail.input_type = \"SEARCH_DOCUMENT\" # 検索対象のドキュメント"
   ]
  },
  {
   "cell_type": "markdown",
   "metadata": {},
   "source": [
    "## ドキュメントの埋め込み処理"
   ]
  },
  {
   "cell_type": "code",
   "execution_count": 153,
   "metadata": {},
   "outputs": [],
   "source": [
    "doc_embedding = generative_ai_inference_client.embed_text(embed_text_detail)"
   ]
  },
  {
   "cell_type": "markdown",
   "metadata": {},
   "source": [
    "## クエリーの定義"
   ]
  },
  {
   "cell_type": "code",
   "execution_count": 154,
   "metadata": {},
   "outputs": [],
   "source": [
    "query = [\"COVID-19の症状は？\"]\n",
    "query = [\"ベクトルデータベースとは？\"]\n",
    "query = [\"ベクトルデータベース、近似最近傍検索とは？\"]\n",
    "query = [\"Pineconeとは？\"]\n"
   ]
  },
  {
   "cell_type": "markdown",
   "metadata": {},
   "source": [
    "## 埋め込むクエリーと生成する埋め込みのタイプ指定"
   ]
  },
  {
   "cell_type": "code",
   "execution_count": 155,
   "metadata": {},
   "outputs": [],
   "source": [
    "embed_text_detail.inputs = query\n",
    "embed_text_detail.input_type = \"SEARCH_QUERY\" # 検索クエリー"
   ]
  },
  {
   "cell_type": "markdown",
   "metadata": {},
   "source": [
    "## クエリーの埋め込み処理"
   ]
  },
  {
   "cell_type": "code",
   "execution_count": 156,
   "metadata": {},
   "outputs": [],
   "source": [
    "query_embedding = generative_ai_inference_client.embed_text(embed_text_detail)"
   ]
  },
  {
   "cell_type": "markdown",
   "metadata": {},
   "source": [
    "## 類似度スコア（コサイン類似度）の計算"
   ]
  },
  {
   "cell_type": "code",
   "execution_count": 157,
   "metadata": {},
   "outputs": [],
   "source": [
    "# レスポンスオブジェクトから埋め込みベクトルを抽出\n",
    "query_embedding_vector = np.array(query_embedding.data.embeddings[0])\n",
    "doc_embedding_vectors = np.array([embed for embed in doc_embedding.data.embeddings])\n",
    "\n",
    "# 類似度スコアの計算（Cohere Embed が生成する埋め込みベクトルはノルムが1になっているため内積を計算するだけでよい）\n",
    "scores = np.dot(query_embedding_vector, np.transpose(doc_embedding_vectors))"
   ]
  },
  {
   "cell_type": "markdown",
   "metadata": {},
   "source": [
    "## スコアの表示"
   ]
  },
  {
   "cell_type": "code",
   "execution_count": 161,
   "metadata": {},
   "outputs": [
    {
     "data": {
      "text/html": [
       "<style type=\"text/css\">\n",
       "#T_a12ec th {\n",
       "  text-align: left;\n",
       "  font-weight: bold;\n",
       "  white-space: nowrap;\n",
       "}\n",
       "#T_a12ec .row_heading {\n",
       "  display: none;\n",
       "}\n",
       "#T_a12ec  .blank {\n",
       "  display: none;\n",
       "}\n",
       "#T_a12ec td {\n",
       "  padding: 5px;\n",
       "}\n",
       "#T_a12ec_row0_col0, #T_a12ec_row0_col1, #T_a12ec_row0_col2, #T_a12ec_row1_col0, #T_a12ec_row1_col1, #T_a12ec_row1_col2, #T_a12ec_row2_col0, #T_a12ec_row2_col1, #T_a12ec_row2_col2, #T_a12ec_row3_col0, #T_a12ec_row3_col1, #T_a12ec_row3_col2, #T_a12ec_row4_col0, #T_a12ec_row4_col1, #T_a12ec_row4_col2, #T_a12ec_row5_col0, #T_a12ec_row5_col1, #T_a12ec_row5_col2, #T_a12ec_row6_col0, #T_a12ec_row6_col1, #T_a12ec_row6_col2, #T_a12ec_row7_col0, #T_a12ec_row7_col1, #T_a12ec_row7_col2, #T_a12ec_row8_col0, #T_a12ec_row8_col1, #T_a12ec_row8_col2, #T_a12ec_row9_col0, #T_a12ec_row9_col1, #T_a12ec_row9_col2, #T_a12ec_row10_col0, #T_a12ec_row10_col1, #T_a12ec_row10_col2, #T_a12ec_row11_col0, #T_a12ec_row11_col1, #T_a12ec_row11_col2, #T_a12ec_row12_col0, #T_a12ec_row12_col1, #T_a12ec_row12_col2, #T_a12ec_row13_col0, #T_a12ec_row13_col1, #T_a12ec_row13_col2, #T_a12ec_row14_col0, #T_a12ec_row14_col1, #T_a12ec_row14_col2, #T_a12ec_row15_col0, #T_a12ec_row15_col1, #T_a12ec_row15_col2 {\n",
       "  text-align: left;\n",
       "}\n",
       "</style>\n",
       "<table id=\"T_a12ec\">\n",
       "  <thead>\n",
       "    <tr>\n",
       "      <th class=\"blank level0\" >&nbsp;</th>\n",
       "      <th id=\"T_a12ec_level0_col0\" class=\"col_heading level0 col0\" >ランク</th>\n",
       "      <th id=\"T_a12ec_level0_col1\" class=\"col_heading level0 col1\" >スコア</th>\n",
       "      <th id=\"T_a12ec_level0_col2\" class=\"col_heading level0 col2\" >ドキュメント</th>\n",
       "    </tr>\n",
       "  </thead>\n",
       "  <tbody>\n",
       "    <tr>\n",
       "      <th id=\"T_a12ec_level0_row0\" class=\"row_heading level0 row0\" >0</th>\n",
       "      <td id=\"T_a12ec_row0_col0\" class=\"data row0 col0\" >1</td>\n",
       "      <td id=\"T_a12ec_row0_col1\" class=\"data row0 col1\" >0.3813</td>\n",
       "      <td id=\"T_a12ec_row0_col2\" class=\"data row0 col2\" >COVID-19は、SARS-CoV-2（新型コロナウイルス）によって引き起こされる感染症です。2019年12月に最初に確認され、その後、世界的なパンデミックとなりました。症状としては、発熱、咳、息切れ、倦怠感、嗅覚や味覚の喪失などがあります。また、感染経路は、主に飛沫感染と接触感染ですが、空気感染の可能性もあります。高齢者や基礎疾患のある方は重症化リスクが高く、死亡率も高いとされています。COVID-19に対しては、ワクチン接種や手洗い、マスク着用、ソーシャルディスタンスなどの予防措置が推奨されています。パンデミックは世界中の医療システムや経済に大きな影響を与えました。</td>\n",
       "    </tr>\n",
       "    <tr>\n",
       "      <th id=\"T_a12ec_level0_row1\" class=\"row_heading level0 row1\" >1</th>\n",
       "      <td id=\"T_a12ec_row1_col0\" class=\"data row1 col0\" >2</td>\n",
       "      <td id=\"T_a12ec_row1_col1\" class=\"data row1 col1\" >0.3498</td>\n",
       "      <td id=\"T_a12ec_row1_col2\" class=\"data row1 col2\" >新型コロナ感染症の症状には、発熱や悪寒、新しい持続的な咳、嗅覚や味覚の喪失や変化など、さまざまな症状が含まれます。</td>\n",
       "    </tr>\n",
       "    <tr>\n",
       "      <th id=\"T_a12ec_level0_row2\" class=\"row_heading level0 row2\" >2</th>\n",
       "      <td id=\"T_a12ec_row2_col0\" class=\"data row2 col0\" >3</td>\n",
       "      <td id=\"T_a12ec_row2_col1\" class=\"data row2 col1\" >0.3457</td>\n",
       "      <td id=\"T_a12ec_row2_col2\" class=\"data row2 col2\" >COVID-19の症状は？</td>\n",
       "    </tr>\n",
       "    <tr>\n",
       "      <th id=\"T_a12ec_level0_row3\" class=\"row_heading level0 row3\" >3</th>\n",
       "      <td id=\"T_a12ec_row3_col0\" class=\"data row3 col0\" >4</td>\n",
       "      <td id=\"T_a12ec_row3_col1\" class=\"data row3 col1\" >0.3433</td>\n",
       "      <td id=\"T_a12ec_row3_col2\" class=\"data row3 col2\" >認知症には以下の症状があります。記憶喪失、判断力の低下、および混乱を経験すること。</td>\n",
       "    </tr>\n",
       "    <tr>\n",
       "      <th id=\"T_a12ec_level0_row4\" class=\"row_heading level0 row4\" >4</th>\n",
       "      <td id=\"T_a12ec_row4_col0\" class=\"data row4 col0\" >5</td>\n",
       "      <td id=\"T_a12ec_row4_col1\" class=\"data row4 col1\" >0.3420</td>\n",
       "      <td id=\"T_a12ec_row4_col2\" class=\"data row4 col2\" >COVID-19はウイルスによって引き起こされる病気です。最も一般的な症状は発熱、悪寒、および喉の痛みですが、他にもさまざまな症状があります。</td>\n",
       "    </tr>\n",
       "    <tr>\n",
       "      <th id=\"T_a12ec_level0_row5\" class=\"row_heading level0 row5\" >5</th>\n",
       "      <td id=\"T_a12ec_row5_col0\" class=\"data row5 col0\" >6</td>\n",
       "      <td id=\"T_a12ec_row5_col1\" class=\"data row5 col1\" >0.3336</td>\n",
       "      <td id=\"T_a12ec_row5_col2\" class=\"data row5 col2\" >COVID-19の症状には、発熱や悪寒、新しい持続的な咳、嗅覚や味覚の喪失や変化など、さまざまな症状が含まれます。</td>\n",
       "    </tr>\n",
       "    <tr>\n",
       "      <th id=\"T_a12ec_level0_row6\" class=\"row_heading level0 row6\" >6</th>\n",
       "      <td id=\"T_a12ec_row6_col0\" class=\"data row6 col0\" >7</td>\n",
       "      <td id=\"T_a12ec_row6_col1\" class=\"data row6 col1\" >0.3315</td>\n",
       "      <td id=\"T_a12ec_row6_col2\" class=\"data row6 col2\" >COVID-19の症状は良くありません</td>\n",
       "    </tr>\n",
       "    <tr>\n",
       "      <th id=\"T_a12ec_level0_row7\" class=\"row_heading level0 row7\" >7</th>\n",
       "      <td id=\"T_a12ec_row7_col0\" class=\"data row7 col0\" >8</td>\n",
       "      <td id=\"T_a12ec_row7_col1\" class=\"data row7 col1\" >0.3293</td>\n",
       "      <td id=\"T_a12ec_row7_col2\" class=\"data row7 col2\" >近似最近傍探索は、高次元空間内で与えられたクエリポイントに最も近い（最も類似した）データポイントを効率的に見つけるアルゴリズムです。</td>\n",
       "    </tr>\n",
       "    <tr>\n",
       "      <th id=\"T_a12ec_level0_row8\" class=\"row_heading level0 row8\" >8</th>\n",
       "      <td id=\"T_a12ec_row8_col0\" class=\"data row8 col0\" >9</td>\n",
       "      <td id=\"T_a12ec_row8_col1\" class=\"data row8 col1\" >0.3211</td>\n",
       "      <td id=\"T_a12ec_row8_col2\" class=\"data row8 col2\" >ベクトルデータベースは、データをベクトル（数値の配列）として表現し、ベクトル間の類似性に基づいて検索や分析を行うことに特化したデータベースシステムです。</td>\n",
       "    </tr>\n",
       "    <tr>\n",
       "      <th id=\"T_a12ec_level0_row9\" class=\"row_heading level0 row9\" >9</th>\n",
       "      <td id=\"T_a12ec_row9_col0\" class=\"data row9 col0\" >10</td>\n",
       "      <td id=\"T_a12ec_row9_col1\" class=\"data row9 col1\" >0.3199</td>\n",
       "      <td id=\"T_a12ec_row9_col2\" class=\"data row9 col2\" >COBIT 2019は政府のデジタル・ガバメント計画を支えるガバナンス態勢を整備する際の最適な枠組みです。</td>\n",
       "    </tr>\n",
       "    <tr>\n",
       "      <th id=\"T_a12ec_level0_row10\" class=\"row_heading level0 row10\" >10</th>\n",
       "      <td id=\"T_a12ec_row10_col0\" class=\"data row10 col0\" >11</td>\n",
       "      <td id=\"T_a12ec_row10_col1\" class=\"data row10 col1\" >0.3157</td>\n",
       "      <td id=\"T_a12ec_row10_col2\" class=\"data row10 col2\" >COVID-19には多くの症状があります。</td>\n",
       "    </tr>\n",
       "    <tr>\n",
       "      <th id=\"T_a12ec_level0_row11\" class=\"row_heading level0 row11\" >11</th>\n",
       "      <td id=\"T_a12ec_row11_col0\" class=\"data row11 col0\" >12</td>\n",
       "      <td id=\"T_a12ec_row11_col1\" class=\"data row11 col1\" >0.3122</td>\n",
       "      <td id=\"T_a12ec_row11_col2\" class=\"data row11 col2\" >鳥インフルエンザの症状には、高熱、咳、筋肉の痛み、倦怠感、頭痛、その他の症状が含まれます。</td>\n",
       "    </tr>\n",
       "    <tr>\n",
       "      <th id=\"T_a12ec_level0_row12\" class=\"row_heading level0 row12\" >12</th>\n",
       "      <td id=\"T_a12ec_row12_col0\" class=\"data row12 col0\" >13</td>\n",
       "      <td id=\"T_a12ec_row12_col1\" class=\"data row12 col1\" >0.3119</td>\n",
       "      <td id=\"T_a12ec_row12_col2\" class=\"data row12 col2\" >COVID-19の症状は悪いです。</td>\n",
       "    </tr>\n",
       "    <tr>\n",
       "      <th id=\"T_a12ec_level0_row13\" class=\"row_heading level0 row13\" >13</th>\n",
       "      <td id=\"T_a12ec_row13_col0\" class=\"data row13 col0\" >14</td>\n",
       "      <td id=\"T_a12ec_row13_col1\" class=\"data row13 col1\" >0.3106</td>\n",
       "      <td id=\"T_a12ec_row13_col2\" class=\"data row13 col2\" >COVID-19には以下の症状があります。記憶喪失、判断力の低下、および混乱を経験すること。</td>\n",
       "    </tr>\n",
       "    <tr>\n",
       "      <th id=\"T_a12ec_level0_row14\" class=\"row_heading level0 row14\" >14</th>\n",
       "      <td id=\"T_a12ec_row14_col0\" class=\"data row14 col0\" >15</td>\n",
       "      <td id=\"T_a12ec_row14_col1\" class=\"data row14 col1\" >0.3085</td>\n",
       "      <td id=\"T_a12ec_row14_col2\" class=\"data row14 col2\" >COVID-19の症状は悪いです。5Gの機能には、より広範なサービスカバレッジ、より多くの利用可能な接続数、および低電力消費が含まれます。</td>\n",
       "    </tr>\n",
       "    <tr>\n",
       "      <th id=\"T_a12ec_level0_row15\" class=\"row_heading level0 row15\" >15</th>\n",
       "      <td id=\"T_a12ec_row15_col0\" class=\"data row15 col0\" >16</td>\n",
       "      <td id=\"T_a12ec_row15_col1\" class=\"data row15 col1\" >0.3069</td>\n",
       "      <td id=\"T_a12ec_row15_col2\" class=\"data row15 col2\" >SGDs（持続可能な開発目標）は、2015年に国連加盟国によって採択された「持続可能な開発のための2030アジェンダ」の中核を成す17の国際目標です。</td>\n",
       "    </tr>\n",
       "  </tbody>\n",
       "</table>\n"
      ],
      "text/plain": [
       "<pandas.io.formats.style.Styler at 0x17ba5e524d0>"
      ]
     },
     "metadata": {},
     "output_type": "display_data"
    }
   ],
   "source": [
    "import pandas as pd\n",
    "\n",
    "# スコアとドキュメントをデータフレームに変換\n",
    "top_n = len(documents)\n",
    "top_doc_idxs = np.argsort(-scores)[:top_n]\n",
    "\n",
    "df = pd.DataFrame({\n",
    "    'ランク': range(1, top_n + 1),\n",
    "    'スコア': [f\"{scores[i]:.4f}\" for i in top_doc_idxs],\n",
    "    'ドキュメント': [documents[i] for i in top_doc_idxs]\n",
    "})\n",
    "\n",
    "# データフレームを表示\n",
    "display(df.style.set_properties(**{'text-align': 'left'})\n",
    "        .set_table_styles([\n",
    "            {'selector': 'th', 'props': [('text-align', 'left'), ('font-weight', 'bold'), ('white-space', 'nowrap')]},\n",
    "            {'selector': '.row_heading, .blank', 'props': [('display', 'none')]},\n",
    "            {'selector': 'td', 'props': [('padding', '5px')]}\n",
    "        ]))"
   ]
  },
  {
   "cell_type": "code",
   "execution_count": 162,
   "metadata": {},
   "outputs": [
    {
     "name": "stderr",
     "output_type": "stream",
     "text": [
      "C:\\Users\\yujim\\AppData\\Local\\Temp\\ipykernel_69432\\3342651954.py:9: FutureWarning: Styler.applymap has been deprecated. Use Styler.map instead.\n",
      "  .applymap(color_scale, subset=['スコア'])  # スコア列にのみヒートマップを適用\n"
     ]
    },
    {
     "data": {
      "text/html": [
       "<style type=\"text/css\">\n",
       "#T_7fd22 th {\n",
       "  text-align: left;\n",
       "  font-weight: bold;\n",
       "  white-space: nowrap;\n",
       "}\n",
       "#T_7fd22 .row_heading {\n",
       "  display: none;\n",
       "}\n",
       "#T_7fd22  .blank {\n",
       "  display: none;\n",
       "}\n",
       "#T_7fd22 td {\n",
       "  padding: 5px;\n",
       "}\n",
       "#T_7fd22_row0_col0, #T_7fd22_row0_col2, #T_7fd22_row1_col0, #T_7fd22_row1_col2, #T_7fd22_row2_col0, #T_7fd22_row2_col2, #T_7fd22_row3_col0, #T_7fd22_row3_col2, #T_7fd22_row4_col0, #T_7fd22_row4_col2, #T_7fd22_row5_col0, #T_7fd22_row5_col2, #T_7fd22_row6_col0, #T_7fd22_row6_col2, #T_7fd22_row7_col0, #T_7fd22_row7_col2, #T_7fd22_row8_col0, #T_7fd22_row8_col2, #T_7fd22_row9_col0, #T_7fd22_row9_col2, #T_7fd22_row10_col0, #T_7fd22_row10_col2, #T_7fd22_row11_col0, #T_7fd22_row11_col2, #T_7fd22_row12_col0, #T_7fd22_row12_col2, #T_7fd22_row13_col0, #T_7fd22_row13_col2, #T_7fd22_row14_col0, #T_7fd22_row14_col2, #T_7fd22_row15_col0, #T_7fd22_row15_col2 {\n",
       "  text-align: left;\n",
       "}\n",
       "#T_7fd22_row0_col1 {\n",
       "  background-color: rgba(255, 99, 71, 0.38);\n",
       "  text-align: left;\n",
       "}\n",
       "#T_7fd22_row1_col1, #T_7fd22_row2_col1 {\n",
       "  background-color: rgba(255, 99, 71, 0.35);\n",
       "  text-align: left;\n",
       "}\n",
       "#T_7fd22_row3_col1, #T_7fd22_row4_col1 {\n",
       "  background-color: rgba(255, 99, 71, 0.34);\n",
       "  text-align: left;\n",
       "}\n",
       "#T_7fd22_row5_col1, #T_7fd22_row6_col1, #T_7fd22_row7_col1 {\n",
       "  background-color: rgba(255, 99, 71, 0.33);\n",
       "  text-align: left;\n",
       "}\n",
       "#T_7fd22_row8_col1, #T_7fd22_row9_col1, #T_7fd22_row10_col1 {\n",
       "  background-color: rgba(255, 99, 71, 0.32);\n",
       "  text-align: left;\n",
       "}\n",
       "#T_7fd22_row11_col1, #T_7fd22_row12_col1, #T_7fd22_row13_col1, #T_7fd22_row14_col1, #T_7fd22_row15_col1 {\n",
       "  background-color: rgba(255, 99, 71, 0.31);\n",
       "  text-align: left;\n",
       "}\n",
       "</style>\n",
       "<table id=\"T_7fd22\">\n",
       "  <thead>\n",
       "    <tr>\n",
       "      <th class=\"blank level0\" >&nbsp;</th>\n",
       "      <th id=\"T_7fd22_level0_col0\" class=\"col_heading level0 col0\" >ランク</th>\n",
       "      <th id=\"T_7fd22_level0_col1\" class=\"col_heading level0 col1\" >スコア</th>\n",
       "      <th id=\"T_7fd22_level0_col2\" class=\"col_heading level0 col2\" >ドキュメント</th>\n",
       "    </tr>\n",
       "  </thead>\n",
       "  <tbody>\n",
       "    <tr>\n",
       "      <th id=\"T_7fd22_level0_row0\" class=\"row_heading level0 row0\" >0</th>\n",
       "      <td id=\"T_7fd22_row0_col0\" class=\"data row0 col0\" >1</td>\n",
       "      <td id=\"T_7fd22_row0_col1\" class=\"data row0 col1\" >0.3813</td>\n",
       "      <td id=\"T_7fd22_row0_col2\" class=\"data row0 col2\" >COVID-19は、SARS-CoV-2（新型コロナウイルス）によって引き起こされる感染症です。2019年12月に最初に確認され、その後、世界的なパンデミックとなりました。症状としては、発熱、咳、息切れ、倦怠感、嗅覚や味覚の喪失などがあります。また、感染経路は、主に飛沫感染と接触感染ですが、空気感染の可能性もあります。高齢者や基礎疾患のある方は重症化リスクが高く、死亡率も高いとされています。COVID-19に対しては、ワクチン接種や手洗い、マスク着用、ソーシャルディスタンスなどの予防措置が推奨されています。パンデミックは世界中の医療システムや経済に大きな影響を与えました。</td>\n",
       "    </tr>\n",
       "    <tr>\n",
       "      <th id=\"T_7fd22_level0_row1\" class=\"row_heading level0 row1\" >1</th>\n",
       "      <td id=\"T_7fd22_row1_col0\" class=\"data row1 col0\" >2</td>\n",
       "      <td id=\"T_7fd22_row1_col1\" class=\"data row1 col1\" >0.3498</td>\n",
       "      <td id=\"T_7fd22_row1_col2\" class=\"data row1 col2\" >新型コロナ感染症の症状には、発熱や悪寒、新しい持続的な咳、嗅覚や味覚の喪失や変化など、さまざまな症状が含まれます。</td>\n",
       "    </tr>\n",
       "    <tr>\n",
       "      <th id=\"T_7fd22_level0_row2\" class=\"row_heading level0 row2\" >2</th>\n",
       "      <td id=\"T_7fd22_row2_col0\" class=\"data row2 col0\" >3</td>\n",
       "      <td id=\"T_7fd22_row2_col1\" class=\"data row2 col1\" >0.3457</td>\n",
       "      <td id=\"T_7fd22_row2_col2\" class=\"data row2 col2\" >COVID-19の症状は？</td>\n",
       "    </tr>\n",
       "    <tr>\n",
       "      <th id=\"T_7fd22_level0_row3\" class=\"row_heading level0 row3\" >3</th>\n",
       "      <td id=\"T_7fd22_row3_col0\" class=\"data row3 col0\" >4</td>\n",
       "      <td id=\"T_7fd22_row3_col1\" class=\"data row3 col1\" >0.3433</td>\n",
       "      <td id=\"T_7fd22_row3_col2\" class=\"data row3 col2\" >認知症には以下の症状があります。記憶喪失、判断力の低下、および混乱を経験すること。</td>\n",
       "    </tr>\n",
       "    <tr>\n",
       "      <th id=\"T_7fd22_level0_row4\" class=\"row_heading level0 row4\" >4</th>\n",
       "      <td id=\"T_7fd22_row4_col0\" class=\"data row4 col0\" >5</td>\n",
       "      <td id=\"T_7fd22_row4_col1\" class=\"data row4 col1\" >0.3420</td>\n",
       "      <td id=\"T_7fd22_row4_col2\" class=\"data row4 col2\" >COVID-19はウイルスによって引き起こされる病気です。最も一般的な症状は発熱、悪寒、および喉の痛みですが、他にもさまざまな症状があります。</td>\n",
       "    </tr>\n",
       "    <tr>\n",
       "      <th id=\"T_7fd22_level0_row5\" class=\"row_heading level0 row5\" >5</th>\n",
       "      <td id=\"T_7fd22_row5_col0\" class=\"data row5 col0\" >6</td>\n",
       "      <td id=\"T_7fd22_row5_col1\" class=\"data row5 col1\" >0.3336</td>\n",
       "      <td id=\"T_7fd22_row5_col2\" class=\"data row5 col2\" >COVID-19の症状には、発熱や悪寒、新しい持続的な咳、嗅覚や味覚の喪失や変化など、さまざまな症状が含まれます。</td>\n",
       "    </tr>\n",
       "    <tr>\n",
       "      <th id=\"T_7fd22_level0_row6\" class=\"row_heading level0 row6\" >6</th>\n",
       "      <td id=\"T_7fd22_row6_col0\" class=\"data row6 col0\" >7</td>\n",
       "      <td id=\"T_7fd22_row6_col1\" class=\"data row6 col1\" >0.3315</td>\n",
       "      <td id=\"T_7fd22_row6_col2\" class=\"data row6 col2\" >COVID-19の症状は良くありません</td>\n",
       "    </tr>\n",
       "    <tr>\n",
       "      <th id=\"T_7fd22_level0_row7\" class=\"row_heading level0 row7\" >7</th>\n",
       "      <td id=\"T_7fd22_row7_col0\" class=\"data row7 col0\" >8</td>\n",
       "      <td id=\"T_7fd22_row7_col1\" class=\"data row7 col1\" >0.3293</td>\n",
       "      <td id=\"T_7fd22_row7_col2\" class=\"data row7 col2\" >近似最近傍探索は、高次元空間内で与えられたクエリポイントに最も近い（最も類似した）データポイントを効率的に見つけるアルゴリズムです。</td>\n",
       "    </tr>\n",
       "    <tr>\n",
       "      <th id=\"T_7fd22_level0_row8\" class=\"row_heading level0 row8\" >8</th>\n",
       "      <td id=\"T_7fd22_row8_col0\" class=\"data row8 col0\" >9</td>\n",
       "      <td id=\"T_7fd22_row8_col1\" class=\"data row8 col1\" >0.3211</td>\n",
       "      <td id=\"T_7fd22_row8_col2\" class=\"data row8 col2\" >ベクトルデータベースは、データをベクトル（数値の配列）として表現し、ベクトル間の類似性に基づいて検索や分析を行うことに特化したデータベースシステムです。</td>\n",
       "    </tr>\n",
       "    <tr>\n",
       "      <th id=\"T_7fd22_level0_row9\" class=\"row_heading level0 row9\" >9</th>\n",
       "      <td id=\"T_7fd22_row9_col0\" class=\"data row9 col0\" >10</td>\n",
       "      <td id=\"T_7fd22_row9_col1\" class=\"data row9 col1\" >0.3199</td>\n",
       "      <td id=\"T_7fd22_row9_col2\" class=\"data row9 col2\" >COBIT 2019は政府のデジタル・ガバメント計画を支えるガバナンス態勢を整備する際の最適な枠組みです。</td>\n",
       "    </tr>\n",
       "    <tr>\n",
       "      <th id=\"T_7fd22_level0_row10\" class=\"row_heading level0 row10\" >10</th>\n",
       "      <td id=\"T_7fd22_row10_col0\" class=\"data row10 col0\" >11</td>\n",
       "      <td id=\"T_7fd22_row10_col1\" class=\"data row10 col1\" >0.3157</td>\n",
       "      <td id=\"T_7fd22_row10_col2\" class=\"data row10 col2\" >COVID-19には多くの症状があります。</td>\n",
       "    </tr>\n",
       "    <tr>\n",
       "      <th id=\"T_7fd22_level0_row11\" class=\"row_heading level0 row11\" >11</th>\n",
       "      <td id=\"T_7fd22_row11_col0\" class=\"data row11 col0\" >12</td>\n",
       "      <td id=\"T_7fd22_row11_col1\" class=\"data row11 col1\" >0.3122</td>\n",
       "      <td id=\"T_7fd22_row11_col2\" class=\"data row11 col2\" >鳥インフルエンザの症状には、高熱、咳、筋肉の痛み、倦怠感、頭痛、その他の症状が含まれます。</td>\n",
       "    </tr>\n",
       "    <tr>\n",
       "      <th id=\"T_7fd22_level0_row12\" class=\"row_heading level0 row12\" >12</th>\n",
       "      <td id=\"T_7fd22_row12_col0\" class=\"data row12 col0\" >13</td>\n",
       "      <td id=\"T_7fd22_row12_col1\" class=\"data row12 col1\" >0.3119</td>\n",
       "      <td id=\"T_7fd22_row12_col2\" class=\"data row12 col2\" >COVID-19の症状は悪いです。</td>\n",
       "    </tr>\n",
       "    <tr>\n",
       "      <th id=\"T_7fd22_level0_row13\" class=\"row_heading level0 row13\" >13</th>\n",
       "      <td id=\"T_7fd22_row13_col0\" class=\"data row13 col0\" >14</td>\n",
       "      <td id=\"T_7fd22_row13_col1\" class=\"data row13 col1\" >0.3106</td>\n",
       "      <td id=\"T_7fd22_row13_col2\" class=\"data row13 col2\" >COVID-19には以下の症状があります。記憶喪失、判断力の低下、および混乱を経験すること。</td>\n",
       "    </tr>\n",
       "    <tr>\n",
       "      <th id=\"T_7fd22_level0_row14\" class=\"row_heading level0 row14\" >14</th>\n",
       "      <td id=\"T_7fd22_row14_col0\" class=\"data row14 col0\" >15</td>\n",
       "      <td id=\"T_7fd22_row14_col1\" class=\"data row14 col1\" >0.3085</td>\n",
       "      <td id=\"T_7fd22_row14_col2\" class=\"data row14 col2\" >COVID-19の症状は悪いです。5Gの機能には、より広範なサービスカバレッジ、より多くの利用可能な接続数、および低電力消費が含まれます。</td>\n",
       "    </tr>\n",
       "    <tr>\n",
       "      <th id=\"T_7fd22_level0_row15\" class=\"row_heading level0 row15\" >15</th>\n",
       "      <td id=\"T_7fd22_row15_col0\" class=\"data row15 col0\" >16</td>\n",
       "      <td id=\"T_7fd22_row15_col1\" class=\"data row15 col1\" >0.3069</td>\n",
       "      <td id=\"T_7fd22_row15_col2\" class=\"data row15 col2\" >SGDs（持続可能な開発目標）は、2015年に国連加盟国によって採択された「持続可能な開発のための2030アジェンダ」の中核を成す17の国際目標です。</td>\n",
       "    </tr>\n",
       "  </tbody>\n",
       "</table>\n"
      ],
      "text/plain": [
       "<pandas.io.formats.style.Styler at 0x17ba3ebbf50>"
      ]
     },
     "metadata": {},
     "output_type": "display_data"
    }
   ],
   "source": [
    "# スコアの最小値と最大値に基づいて色付けを行う\n",
    "def color_scale(val):\n",
    "    score = float(val)\n",
    "    color = f'background-color: rgba(255, 99, 71, {score:.2f})'  # 赤色のグラデーション\n",
    "    return color\n",
    "\n",
    "# データフレームを表示（ヒートマップスタイル）\n",
    "display(df.style\n",
    "        .applymap(color_scale, subset=['スコア'])  # スコア列にのみヒートマップを適用\n",
    "        .set_properties(**{'text-align': 'left'})\n",
    "        .set_table_styles([\n",
    "            {'selector': 'th', 'props': [('text-align', 'left'), ('font-weight', 'bold'), ('white-space', 'nowrap')]},\n",
    "            {'selector': '.row_heading, .blank', 'props': [('display', 'none')]},\n",
    "            {'selector': 'td', 'props': [('padding', '5px')]}\n",
    "        ]))"
   ]
  },
  {
   "cell_type": "code",
   "execution_count": null,
   "metadata": {},
   "outputs": [],
   "source": []
  }
 ],
 "metadata": {
  "kernelspec": {
   "display_name": ".venv",
   "language": "python",
   "name": "python3"
  },
  "language_info": {
   "codemirror_mode": {
    "name": "ipython",
    "version": 3
   },
   "file_extension": ".py",
   "mimetype": "text/x-python",
   "name": "python",
   "nbconvert_exporter": "python",
   "pygments_lexer": "ipython3",
   "version": "3.11.9"
  }
 },
 "nbformat": 4,
 "nbformat_minor": 2
}
