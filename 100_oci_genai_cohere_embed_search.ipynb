{
 "cells": [
  {
   "cell_type": "markdown",
   "metadata": {},
   "source": [
    "# テキストの埋め込みを使った類似性検索デモノートブック\n",
    "埋め込みモデル：Cohere Embed Multilingual v 3.0(OCI Generative AI Searvice)"
   ]
  },
  {
   "cell_type": "code",
   "execution_count": 1,
   "metadata": {},
   "outputs": [],
   "source": [
    "import oci\n",
    "import os\n",
    "from dotenv import load_dotenv, find_dotenv\n",
    "import numpy as np\n",
    "import pandas as pd"
   ]
  },
  {
   "cell_type": "code",
   "execution_count": 2,
   "metadata": {},
   "outputs": [],
   "source": [
    "_= load_dotenv(find_dotenv())"
   ]
  },
  {
   "cell_type": "markdown",
   "metadata": {},
   "source": [
    "## OCI認証パラメータの設定"
   ]
  },
  {
   "cell_type": "code",
   "execution_count": 3,
   "metadata": {},
   "outputs": [],
   "source": [
    "CONFIG_PROFILE = \"DEFAULT\" # 構成ファイルに合わせて変更してください。\n",
    "config = oci.config.from_file(file_location='~/.oci/config', profile_name=CONFIG_PROFILE)\n",
    "config[\"region\"] = \"us-chicago-1\""
   ]
  },
  {
   "cell_type": "markdown",
   "metadata": {},
   "source": [
    "## OCI Generative AIクライアントの生成"
   ]
  },
  {
   "cell_type": "code",
   "execution_count": 4,
   "metadata": {},
   "outputs": [],
   "source": [
    "compartment_id = os.getenv(\"OCI_COMPARTMENT_ID\") "
   ]
  },
  {
   "cell_type": "code",
   "execution_count": 5,
   "metadata": {},
   "outputs": [],
   "source": [
    "generative_ai_inference_client = oci.generative_ai_inference.GenerativeAiInferenceClient(config=config, retry_strategy=oci.retry.NoneRetryStrategy(), timeout=(10,240))"
   ]
  },
  {
   "cell_type": "markdown",
   "metadata": {},
   "source": [
    "## 埋め込み処理共通のパラメータの設定"
   ]
  },
  {
   "cell_type": "code",
   "execution_count": 6,
   "metadata": {},
   "outputs": [],
   "source": [
    "model_id = \"cohere.embed-multilingual-v3.0\" # 埋め込みモデル"
   ]
  },
  {
   "cell_type": "code",
   "execution_count": 7,
   "metadata": {},
   "outputs": [],
   "source": [
    "# 埋め込み処理の詳細なパラメータを設定するオブジェクトを生成\n",
    "embed_text_detail = oci.generative_ai_inference.models.EmbedTextDetails()\n",
    "embed_text_detail.serving_mode = oci.generative_ai_inference.models.OnDemandServingMode(model_id=model_id)\n",
    "embed_text_detail.compartment_id = compartment_id"
   ]
  },
  {
   "cell_type": "markdown",
   "metadata": {},
   "source": [
    "## 検索対象ドキュメントの埋め込み処理"
   ]
  },
  {
   "cell_type": "markdown",
   "metadata": {},
   "source": [
    "### 検索対象のドキュメントの定義"
   ]
  },
  {
   "cell_type": "code",
   "execution_count": 8,
   "metadata": {},
   "outputs": [],
   "source": [
    "documents = [\n",
    "    \"COVID-19には多くの症状があります。\",\n",
    "    \"COVID-19の症状は悪いです。\",\n",
    "    \"COVID-19の症状は良くありません\",\n",
    "    \"COVID-19の症状はいろいろです\",\n",
    "    \"COVID-19の症状は悪いです。5Gの機能には、より広範なサービスカバレッジ、より多くの利用可能な接続数、および低電力消費が含まれます。\",\n",
    "    \"COVID-19はウイルスによって引き起こされる病気です。最も一般的な症状は発熱、悪寒、および喉の痛みですが、他にもさまざまな症状があります。\",\n",
    "    \"COVID-19の症状には、発熱や悪寒、新しい持続的な咳、嗅覚や味覚の喪失や変化など、さまざまな症状が含まれます。\",\n",
    "    \"認知症には以下の症状があります。記憶喪失、判断力の低下、および混乱を経験すること。\",\n",
    "    \"COVID-19には以下の症状があります。記憶喪失、判断力の低下、および混乱を経験すること。\",\n",
    "    \"COBIT 2019は政府のデジタル・ガバメント計画を支えるガバナンス態勢を整備する際の最適な枠組みです。\",\n",
    "    \"新型コロナ感染症の症状には、発熱や悪寒、新しい持続的な咳、嗅覚や味覚の喪失や変化など、さまざまな症状が含まれます。\",\n",
    "    \"鳥インフルエンザの症状には、高熱、咳、筋肉の痛み、倦怠感、頭痛、その他の症状が含まれます。\",\n",
    "    \"COVID-19は、SARS-CoV-2（新型コロナウイルス）によって引き起こされる感染症です。2019年12月に最初に確認され、その後、世界的なパンデミックとなりました。症状としては、発熱、咳、息切れ、倦怠感、嗅覚や味覚の喪失などがあります。また、感染経路は、主に飛沫感染と接触感染ですが、空気感染の可能性もあります。高齢者や基礎疾患のある方は重症化リスクが高く、死亡率も高いとされています。COVID-19に対しては、ワクチン接種や手洗い、マスク着用、ソーシャルディスタンスなどの予防措置が推奨されています。パンデミックは世界中の医療システムや経済に大きな影響を与えました。\",\n",
    "    \"SGDs（持続可能な開発目標）は、2015年に国連加盟国によって採択された「持続可能な開発のための2030アジェンダ」の中核を成す17の国際目標です。\",\n",
    "    \"ベクトルデータベースは、データをベクトル（数値の配列）として表現し、ベクトル間の類似性に基づいて検索や分析を行うことに特化したデータベースシステムです。\",\n",
    "    \"著名なベクトルデータベースには、ChromaDB、Faiss、Pinecone、Annoy、Oracle Database 23ai AI Vector Search などがあります。\",\n",
    "    \"ベクトルデータベースには、効率的な検索のためにHNSWのような近似最近傍検索アルゴリズムを採用しているものがあります。\",\n",
    "    \"近似最近傍検索は、高次元空間内で与えられたクエリポイントに最も近い（最も類似した）データポイントを効率的に見つけるアルゴリズムです。\",\n",
    "    \"Oracle Databaseとは、米国オラクル が開発・販売している、リレーショナル・データベース管理システム のことです\"\n",
    "]"
   ]
  },
  {
   "cell_type": "code",
   "execution_count": 9,
   "metadata": {},
   "outputs": [],
   "source": [
    "embed_text_detail.inputs = documents"
   ]
  },
  {
   "cell_type": "markdown",
   "metadata": {},
   "source": [
    "### ドキュメントの埋め込み実行"
   ]
  },
  {
   "cell_type": "code",
   "execution_count": 10,
   "metadata": {},
   "outputs": [],
   "source": [
    "embed_text_detail.input_type = \"SEARCH_DOCUMENT\" # 検索対象のドキュメント\n",
    "doc_embedding = generative_ai_inference_client.embed_text(embed_text_detail)\n",
    "# レスポンスオブジェクトから埋め込みベクトルを抽出\n",
    "doc_embedding_vectors = np.array([embed for embed in doc_embedding.data.embeddings])"
   ]
  },
  {
   "cell_type": "code",
   "execution_count": 11,
   "metadata": {},
   "outputs": [
    {
     "name": "stdout",
     "output_type": "stream",
     "text": [
      "埋め込みの数:19\n",
      "埋め込みの次元数:1024\n"
     ]
    }
   ],
   "source": [
    "print(f\"埋め込みの数:{len(doc_embedding.data.embeddings)}\")\n",
    "print(f\"埋め込みの次元数:{len(doc_embedding.data.embeddings[0])}\")"
   ]
  },
  {
   "cell_type": "code",
   "execution_count": 12,
   "metadata": {},
   "outputs": [
    {
     "name": "stdout",
     "output_type": "stream",
     "text": [
      "1件目の埋め込み (最初の5要素):[-0.0001835823, -0.0014657974, 0.03866577, -0.0029411316, 0.006828308]\n"
     ]
    }
   ],
   "source": [
    "print(f\"1件目の埋め込み (最初の5要素):{doc_embedding.data.embeddings[0][:5]}\")"
   ]
  },
  {
   "cell_type": "markdown",
   "metadata": {},
   "source": [
    "## 類似性検索のデモ（1）"
   ]
  },
  {
   "cell_type": "markdown",
   "metadata": {},
   "source": [
    "### クエリーの埋め込み処理"
   ]
  },
  {
   "cell_type": "markdown",
   "metadata": {},
   "source": [
    "#### クエリーの定義"
   ]
  },
  {
   "cell_type": "code",
   "execution_count": 13,
   "metadata": {},
   "outputs": [],
   "source": [
    "query1 = [\"ベクトルデータベースとは？\"]"
   ]
  },
  {
   "cell_type": "markdown",
   "metadata": {},
   "source": [
    "#### クエリー1の埋め込み生成"
   ]
  },
  {
   "cell_type": "code",
   "execution_count": 14,
   "metadata": {},
   "outputs": [],
   "source": [
    "embed_text_detail.input_type = \"SEARCH_QUERY\" # 検索クエリー\n",
    "embed_text_detail.inputs = query1\n",
    "query_embedding1 = generative_ai_inference_client.embed_text(embed_text_detail)\n",
    "# レスポンスオブジェクトから埋め込みベクトルを抽出\n",
    "query_vector1 = np.array(query_embedding1.data.embeddings[0])"
   ]
  },
  {
   "cell_type": "markdown",
   "metadata": {},
   "source": [
    "### 類似性検索の実行"
   ]
  },
  {
   "cell_type": "markdown",
   "metadata": {},
   "source": [
    "#### 類似度スコア（コサイン類似度）の計算"
   ]
  },
  {
   "cell_type": "code",
   "execution_count": 15,
   "metadata": {},
   "outputs": [],
   "source": [
    "scores = np.dot(query_vector1, np.transpose(doc_embedding_vectors))"
   ]
  },
  {
   "cell_type": "markdown",
   "metadata": {},
   "source": [
    "#### 類似度順に並べ替えて上位5件を抽出"
   ]
  },
  {
   "cell_type": "code",
   "execution_count": 16,
   "metadata": {},
   "outputs": [],
   "source": [
    "#top_n = len(documents)\n",
    "top_n = 5\n",
    "top_doc_idxs = np.argsort(-scores)[:top_n] # scores の要素を降順にソートしてインデックスを返す"
   ]
  },
  {
   "cell_type": "markdown",
   "metadata": {},
   "source": [
    "#### 結果の表示"
   ]
  },
  {
   "cell_type": "code",
   "execution_count": 17,
   "metadata": {},
   "outputs": [
    {
     "data": {
      "text/html": [
       "<style type=\"text/css\">\n",
       "#T_39e27 th {\n",
       "  text-align: left;\n",
       "  font-weight: bold;\n",
       "  white-space: nowrap;\n",
       "}\n",
       "#T_39e27 .row_heading {\n",
       "  display: none;\n",
       "}\n",
       "#T_39e27  .blank {\n",
       "  display: none;\n",
       "}\n",
       "#T_39e27 td {\n",
       "  padding: 5px;\n",
       "}\n",
       "#T_39e27_row0_col0, #T_39e27_row0_col2, #T_39e27_row1_col0, #T_39e27_row1_col2, #T_39e27_row2_col0, #T_39e27_row2_col2, #T_39e27_row3_col0, #T_39e27_row3_col2, #T_39e27_row4_col0, #T_39e27_row4_col2 {\n",
       "  text-align: left;\n",
       "}\n",
       "#T_39e27_row0_col1 {\n",
       "  background-color: rgba(255, 99, 71, 0.82);\n",
       "  text-align: left;\n",
       "}\n",
       "#T_39e27_row1_col1 {\n",
       "  background-color: rgba(255, 99, 71, 0.77);\n",
       "  text-align: left;\n",
       "}\n",
       "#T_39e27_row2_col1 {\n",
       "  background-color: rgba(255, 99, 71, 0.66);\n",
       "  text-align: left;\n",
       "}\n",
       "#T_39e27_row3_col1 {\n",
       "  background-color: rgba(255, 99, 71, 0.57);\n",
       "  text-align: left;\n",
       "}\n",
       "#T_39e27_row4_col1 {\n",
       "  background-color: rgba(255, 99, 71, 0.41);\n",
       "  text-align: left;\n",
       "}\n",
       "</style>\n",
       "<table id=\"T_39e27\">\n",
       "  <thead>\n",
       "    <tr>\n",
       "      <th class=\"blank level0\" >&nbsp;</th>\n",
       "      <th id=\"T_39e27_level0_col0\" class=\"col_heading level0 col0\" >ランク</th>\n",
       "      <th id=\"T_39e27_level0_col1\" class=\"col_heading level0 col1\" >スコア</th>\n",
       "      <th id=\"T_39e27_level0_col2\" class=\"col_heading level0 col2\" >ドキュメント</th>\n",
       "    </tr>\n",
       "  </thead>\n",
       "  <tbody>\n",
       "    <tr>\n",
       "      <th id=\"T_39e27_level0_row0\" class=\"row_heading level0 row0\" >0</th>\n",
       "      <td id=\"T_39e27_row0_col0\" class=\"data row0 col0\" >1</td>\n",
       "      <td id=\"T_39e27_row0_col1\" class=\"data row0 col1\" >0.8247</td>\n",
       "      <td id=\"T_39e27_row0_col2\" class=\"data row0 col2\" >ベクトルデータベースは、データをベクトル（数値の配列）として表現し、ベクトル間の類似性に基づいて検索や分析を行うことに特化したデータベースシステムです。</td>\n",
       "    </tr>\n",
       "    <tr>\n",
       "      <th id=\"T_39e27_level0_row1\" class=\"row_heading level0 row1\" >1</th>\n",
       "      <td id=\"T_39e27_row1_col0\" class=\"data row1 col0\" >2</td>\n",
       "      <td id=\"T_39e27_row1_col1\" class=\"data row1 col1\" >0.7664</td>\n",
       "      <td id=\"T_39e27_row1_col2\" class=\"data row1 col2\" >著名なベクトルデータベースには、ChromaDB、Faiss、Pinecone、Annoy、Oracle Database 23ai AI Vector Search などがあります。</td>\n",
       "    </tr>\n",
       "    <tr>\n",
       "      <th id=\"T_39e27_level0_row2\" class=\"row_heading level0 row2\" >2</th>\n",
       "      <td id=\"T_39e27_row2_col0\" class=\"data row2 col0\" >3</td>\n",
       "      <td id=\"T_39e27_row2_col1\" class=\"data row2 col1\" >0.6599</td>\n",
       "      <td id=\"T_39e27_row2_col2\" class=\"data row2 col2\" >ベクトルデータベースには、効率的な検索のためにHNSWのような近似最近傍検索アルゴリズムを採用しているものがあります。</td>\n",
       "    </tr>\n",
       "    <tr>\n",
       "      <th id=\"T_39e27_level0_row3\" class=\"row_heading level0 row3\" >3</th>\n",
       "      <td id=\"T_39e27_row3_col0\" class=\"data row3 col0\" >4</td>\n",
       "      <td id=\"T_39e27_row3_col1\" class=\"data row3 col1\" >0.5685</td>\n",
       "      <td id=\"T_39e27_row3_col2\" class=\"data row3 col2\" >Oracle Databaseとは、米国オラクル が開発・販売している、リレーショナル・データベース管理システム のことです</td>\n",
       "    </tr>\n",
       "    <tr>\n",
       "      <th id=\"T_39e27_level0_row4\" class=\"row_heading level0 row4\" >4</th>\n",
       "      <td id=\"T_39e27_row4_col0\" class=\"data row4 col0\" >5</td>\n",
       "      <td id=\"T_39e27_row4_col1\" class=\"data row4 col1\" >0.4050</td>\n",
       "      <td id=\"T_39e27_row4_col2\" class=\"data row4 col2\" >COBIT 2019は政府のデジタル・ガバメント計画を支えるガバナンス態勢を整備する際の最適な枠組みです。</td>\n",
       "    </tr>\n",
       "  </tbody>\n",
       "</table>\n"
      ],
      "text/plain": [
       "<pandas.io.formats.style.Styler at 0x19caf52f810>"
      ]
     },
     "metadata": {},
     "output_type": "display_data"
    }
   ],
   "source": [
    "# Pandas Dataframe を使って結果を表示\n",
    "df = pd.DataFrame({\n",
    "    'ランク': range(1, top_n + 1),\n",
    "    'スコア': [f\"{scores[i]:.4f}\" for i in top_doc_idxs],\n",
    "    'ドキュメント': [documents[i] for i in top_doc_idxs]\n",
    "})\n",
    "# スコアの最小値と最大値に基づいて色付けを行う\n",
    "def color_scale(val):\n",
    "    score = float(val)\n",
    "    color = f'background-color: rgba(255, 99, 71, {score:.2f})'  # 赤色のグラデーション\n",
    "    return color\n",
    "\n",
    "# データフレームを表示（ヒートマップスタイル）\n",
    "display(df.style\n",
    "        .map(color_scale, subset=['スコア']) \n",
    "        .set_properties(**{'text-align': 'left'})\n",
    "        .set_table_styles([\n",
    "            {'selector': 'th', 'props': [('text-align', 'left'), ('font-weight', 'bold'), ('white-space', 'nowrap')]},\n",
    "            {'selector': '.row_heading, .blank', 'props': [('display', 'none')]},\n",
    "            {'selector': 'td', 'props': [('padding', '5px')]}\n",
    "        ]))"
   ]
  },
  {
   "cell_type": "markdown",
   "metadata": {},
   "source": [
    "## 類似性検索のデモ（2）"
   ]
  },
  {
   "cell_type": "markdown",
   "metadata": {},
   "source": [
    "### クエリーの埋め込み処理"
   ]
  },
  {
   "cell_type": "markdown",
   "metadata": {},
   "source": [
    "#### クエリーの定義"
   ]
  },
  {
   "cell_type": "code",
   "execution_count": 18,
   "metadata": {},
   "outputs": [],
   "source": [
    "query2 = [\"近似最近傍検索とは？\"]"
   ]
  },
  {
   "cell_type": "markdown",
   "metadata": {},
   "source": [
    "#### クエリー2の埋め込み生成"
   ]
  },
  {
   "cell_type": "code",
   "execution_count": 19,
   "metadata": {},
   "outputs": [],
   "source": [
    "embed_text_detail.input_type = \"SEARCH_QUERY\" # 検索クエリー\n",
    "embed_text_detail.inputs = query2\n",
    "query_embedding2 = generative_ai_inference_client.embed_text(embed_text_detail)\n",
    "# レスポンスオブジェクトから埋め込みベクトルを抽出\n",
    "query_vector2 = np.array(query_embedding2.data.embeddings[0])"
   ]
  },
  {
   "cell_type": "markdown",
   "metadata": {},
   "source": [
    "### 類似性検索の実行"
   ]
  },
  {
   "cell_type": "markdown",
   "metadata": {},
   "source": [
    "#### 類似度スコア（コサイン類似度）の計算"
   ]
  },
  {
   "cell_type": "code",
   "execution_count": 20,
   "metadata": {},
   "outputs": [],
   "source": [
    "# 類似度スコアの計算\n",
    "scores = np.dot(query_vector2, np.transpose(doc_embedding_vectors))"
   ]
  },
  {
   "cell_type": "markdown",
   "metadata": {},
   "source": [
    "#### 結果の表示（上位5件）"
   ]
  },
  {
   "cell_type": "code",
   "execution_count": 21,
   "metadata": {},
   "outputs": [
    {
     "data": {
      "text/html": [
       "<style type=\"text/css\">\n",
       "#T_42e5e th {\n",
       "  text-align: left;\n",
       "  font-weight: bold;\n",
       "  white-space: nowrap;\n",
       "}\n",
       "#T_42e5e .row_heading {\n",
       "  display: none;\n",
       "}\n",
       "#T_42e5e  .blank {\n",
       "  display: none;\n",
       "}\n",
       "#T_42e5e td {\n",
       "  padding: 5px;\n",
       "}\n",
       "#T_42e5e_row0_col0, #T_42e5e_row0_col2, #T_42e5e_row1_col0, #T_42e5e_row1_col2, #T_42e5e_row2_col0, #T_42e5e_row2_col2, #T_42e5e_row3_col0, #T_42e5e_row3_col2, #T_42e5e_row4_col0, #T_42e5e_row4_col2 {\n",
       "  text-align: left;\n",
       "}\n",
       "#T_42e5e_row0_col1 {\n",
       "  background-color: rgba(255, 99, 71, 0.90);\n",
       "  text-align: left;\n",
       "}\n",
       "#T_42e5e_row1_col1 {\n",
       "  background-color: rgba(255, 99, 71, 0.69);\n",
       "  text-align: left;\n",
       "}\n",
       "#T_42e5e_row2_col1 {\n",
       "  background-color: rgba(255, 99, 71, 0.43);\n",
       "  text-align: left;\n",
       "}\n",
       "#T_42e5e_row3_col1 {\n",
       "  background-color: rgba(255, 99, 71, 0.38);\n",
       "  text-align: left;\n",
       "}\n",
       "#T_42e5e_row4_col1 {\n",
       "  background-color: rgba(255, 99, 71, 0.35);\n",
       "  text-align: left;\n",
       "}\n",
       "</style>\n",
       "<table id=\"T_42e5e\">\n",
       "  <thead>\n",
       "    <tr>\n",
       "      <th class=\"blank level0\" >&nbsp;</th>\n",
       "      <th id=\"T_42e5e_level0_col0\" class=\"col_heading level0 col0\" >ランク</th>\n",
       "      <th id=\"T_42e5e_level0_col1\" class=\"col_heading level0 col1\" >スコア</th>\n",
       "      <th id=\"T_42e5e_level0_col2\" class=\"col_heading level0 col2\" >ドキュメント</th>\n",
       "    </tr>\n",
       "  </thead>\n",
       "  <tbody>\n",
       "    <tr>\n",
       "      <th id=\"T_42e5e_level0_row0\" class=\"row_heading level0 row0\" >0</th>\n",
       "      <td id=\"T_42e5e_row0_col0\" class=\"data row0 col0\" >1</td>\n",
       "      <td id=\"T_42e5e_row0_col1\" class=\"data row0 col1\" >0.8964</td>\n",
       "      <td id=\"T_42e5e_row0_col2\" class=\"data row0 col2\" >近似最近傍検索は、高次元空間内で与えられたクエリポイントに最も近い（最も類似した）データポイントを効率的に見つけるアルゴリズムです。</td>\n",
       "    </tr>\n",
       "    <tr>\n",
       "      <th id=\"T_42e5e_level0_row1\" class=\"row_heading level0 row1\" >1</th>\n",
       "      <td id=\"T_42e5e_row1_col0\" class=\"data row1 col0\" >2</td>\n",
       "      <td id=\"T_42e5e_row1_col1\" class=\"data row1 col1\" >0.6872</td>\n",
       "      <td id=\"T_42e5e_row1_col2\" class=\"data row1 col2\" >ベクトルデータベースには、効率的な検索のためにHNSWのような近似最近傍検索アルゴリズムを採用しているものがあります。</td>\n",
       "    </tr>\n",
       "    <tr>\n",
       "      <th id=\"T_42e5e_level0_row2\" class=\"row_heading level0 row2\" >2</th>\n",
       "      <td id=\"T_42e5e_row2_col0\" class=\"data row2 col0\" >3</td>\n",
       "      <td id=\"T_42e5e_row2_col1\" class=\"data row2 col1\" >0.4275</td>\n",
       "      <td id=\"T_42e5e_row2_col2\" class=\"data row2 col2\" >ベクトルデータベースは、データをベクトル（数値の配列）として表現し、ベクトル間の類似性に基づいて検索や分析を行うことに特化したデータベースシステムです。</td>\n",
       "    </tr>\n",
       "    <tr>\n",
       "      <th id=\"T_42e5e_level0_row3\" class=\"row_heading level0 row3\" >3</th>\n",
       "      <td id=\"T_42e5e_row3_col0\" class=\"data row3 col0\" >4</td>\n",
       "      <td id=\"T_42e5e_row3_col1\" class=\"data row3 col1\" >0.3810</td>\n",
       "      <td id=\"T_42e5e_row3_col2\" class=\"data row3 col2\" >著名なベクトルデータベースには、ChromaDB、Faiss、Pinecone、Annoy、Oracle Database 23ai AI Vector Search などがあります。</td>\n",
       "    </tr>\n",
       "    <tr>\n",
       "      <th id=\"T_42e5e_level0_row4\" class=\"row_heading level0 row4\" >4</th>\n",
       "      <td id=\"T_42e5e_row4_col0\" class=\"data row4 col0\" >5</td>\n",
       "      <td id=\"T_42e5e_row4_col1\" class=\"data row4 col1\" >0.3495</td>\n",
       "      <td id=\"T_42e5e_row4_col2\" class=\"data row4 col2\" >Oracle Databaseとは、米国オラクル が開発・販売している、リレーショナル・データベース管理システム のことです</td>\n",
       "    </tr>\n",
       "  </tbody>\n",
       "</table>\n"
      ],
      "text/plain": [
       "<pandas.io.formats.style.Styler at 0x19cb2302210>"
      ]
     },
     "metadata": {},
     "output_type": "display_data"
    }
   ],
   "source": [
    "# スコアとドキュメントをデータフレームに変換\n",
    "#top_n = len(documents)\n",
    "top_n = 5\n",
    "top_doc_idxs = np.argsort(-scores)[:top_n]\n",
    "\n",
    "df = pd.DataFrame({\n",
    "    'ランク': range(1, top_n + 1),\n",
    "    'スコア': [f\"{scores[i]:.4f}\" for i in top_doc_idxs],\n",
    "    'ドキュメント': [documents[i] for i in top_doc_idxs]\n",
    "})\n",
    "# スコアの最小値と最大値に基づいて色付けを行う\n",
    "def color_scale(val):\n",
    "    score = float(val)\n",
    "    color = f'background-color: rgba(255, 99, 71, {score:.2f})'  # 赤色のグラデーション\n",
    "    return color\n",
    "\n",
    "# データフレームを表示（ヒートマップスタイル）\n",
    "display(df.style\n",
    "        .map(color_scale, subset=['スコア']) \n",
    "        .set_properties(**{'text-align': 'left'})\n",
    "        .set_table_styles([\n",
    "            {'selector': 'th', 'props': [('text-align', 'left'), ('font-weight', 'bold'), ('white-space', 'nowrap')]},\n",
    "            {'selector': '.row_heading, .blank', 'props': [('display', 'none')]},\n",
    "            {'selector': 'td', 'props': [('padding', '5px')]}\n",
    "        ]))"
   ]
  },
  {
   "cell_type": "markdown",
   "metadata": {},
   "source": [
    "## 類似性検索のデモ（3） - おまけ（クエリーの埋め込みの平均ベクトルで検索してみる）"
   ]
  },
  {
   "cell_type": "markdown",
   "metadata": {},
   "source": [
    "### クエリーの埋め込み処理"
   ]
  },
  {
   "cell_type": "markdown",
   "metadata": {},
   "source": [
    "#### クエリーの定義"
   ]
  },
  {
   "cell_type": "code",
   "execution_count": 22,
   "metadata": {},
   "outputs": [],
   "source": [
    "query1 = [\"ベクトルデータベースとは？\"]\n",
    "query2 = [\"近似最近傍検索とは？\"]"
   ]
  },
  {
   "cell_type": "markdown",
   "metadata": {},
   "source": [
    "#### クエリー1、2の埋め込み実行"
   ]
  },
  {
   "cell_type": "code",
   "execution_count": 23,
   "metadata": {},
   "outputs": [],
   "source": [
    "embed_text_detail.input_type = \"SEARCH_QUERY\" # 検索クエリー\n",
    "embed_text_detail.inputs = query1\n",
    "query_embedding1 = generative_ai_inference_client.embed_text(embed_text_detail)\n",
    "embed_text_detail.inputs = query2\n",
    "query_embedding2 = generative_ai_inference_client.embed_text(embed_text_detail)"
   ]
  },
  {
   "cell_type": "markdown",
   "metadata": {},
   "source": [
    "#### クエリー1、2の埋め込みの平均を計算"
   ]
  },
  {
   "cell_type": "code",
   "execution_count": 24,
   "metadata": {},
   "outputs": [
    {
     "name": "stdout",
     "output_type": "stream",
     "text": [
      "埋め込みの平均のノルム（ベクトルの長さ）: 0.8370207499170155\n",
      "正規化した埋め込みのノルムベクトルの長さ）: 1.0\n"
     ]
    }
   ],
   "source": [
    "query_vector1 = np.array(query_embedding1.data.embeddings[0])\n",
    "query_vector2 = np.array(query_embedding2.data.embeddings[0])\n",
    "avg_query_vector = (query_vector1 + query_vector2) / 2\n",
    "print(f\"埋め込みの平均のノルム（ベクトルの長さ）: {np.linalg.norm(avg_query_vector)}\")\n",
    "query_embedding_vector = avg_query_vector / np.linalg.norm(avg_query_vector)\n",
    "print(f\"正規化した埋め込みのノルムベクトルの長さ）: {np.linalg.norm(query_embedding_vector)}\")"
   ]
  },
  {
   "cell_type": "markdown",
   "metadata": {},
   "source": [
    "### 類似性検索の実行"
   ]
  },
  {
   "cell_type": "markdown",
   "metadata": {},
   "source": [
    "#### 類似度スコア（コサイン類似度）の計算"
   ]
  },
  {
   "cell_type": "code",
   "execution_count": 25,
   "metadata": {},
   "outputs": [],
   "source": [
    "# レスポンスオブジェクトから埋め込みベクトルを抽出\n",
    "doc_embedding_vectors = np.array([embed for embed in doc_embedding.data.embeddings])\n",
    "# 類似度スコアの計算\n",
    "scores = np.dot(query_embedding_vector, np.transpose(doc_embedding_vectors))"
   ]
  },
  {
   "cell_type": "markdown",
   "metadata": {},
   "source": [
    "#### 結果の表示（上位5件）"
   ]
  },
  {
   "cell_type": "code",
   "execution_count": 26,
   "metadata": {},
   "outputs": [
    {
     "data": {
      "text/html": [
       "<style type=\"text/css\">\n",
       "#T_a067a th {\n",
       "  text-align: left;\n",
       "  font-weight: bold;\n",
       "  white-space: nowrap;\n",
       "}\n",
       "#T_a067a .row_heading {\n",
       "  display: none;\n",
       "}\n",
       "#T_a067a  .blank {\n",
       "  display: none;\n",
       "}\n",
       "#T_a067a td {\n",
       "  padding: 5px;\n",
       "}\n",
       "#T_a067a_row0_col0, #T_a067a_row0_col2, #T_a067a_row1_col0, #T_a067a_row1_col2, #T_a067a_row2_col0, #T_a067a_row2_col2, #T_a067a_row3_col0, #T_a067a_row3_col2, #T_a067a_row4_col0, #T_a067a_row4_col2 {\n",
       "  text-align: left;\n",
       "}\n",
       "#T_a067a_row0_col1 {\n",
       "  background-color: rgba(255, 99, 71, 0.80);\n",
       "  text-align: left;\n",
       "}\n",
       "#T_a067a_row1_col1 {\n",
       "  background-color: rgba(255, 99, 71, 0.77);\n",
       "  text-align: left;\n",
       "}\n",
       "#T_a067a_row2_col1 {\n",
       "  background-color: rgba(255, 99, 71, 0.75);\n",
       "  text-align: left;\n",
       "}\n",
       "#T_a067a_row3_col1 {\n",
       "  background-color: rgba(255, 99, 71, 0.69);\n",
       "  text-align: left;\n",
       "}\n",
       "#T_a067a_row4_col1 {\n",
       "  background-color: rgba(255, 99, 71, 0.55);\n",
       "  text-align: left;\n",
       "}\n",
       "</style>\n",
       "<table id=\"T_a067a\">\n",
       "  <thead>\n",
       "    <tr>\n",
       "      <th class=\"blank level0\" >&nbsp;</th>\n",
       "      <th id=\"T_a067a_level0_col0\" class=\"col_heading level0 col0\" >ランク</th>\n",
       "      <th id=\"T_a067a_level0_col1\" class=\"col_heading level0 col1\" >スコア</th>\n",
       "      <th id=\"T_a067a_level0_col2\" class=\"col_heading level0 col2\" >ドキュメント</th>\n",
       "    </tr>\n",
       "  </thead>\n",
       "  <tbody>\n",
       "    <tr>\n",
       "      <th id=\"T_a067a_level0_row0\" class=\"row_heading level0 row0\" >0</th>\n",
       "      <td id=\"T_a067a_row0_col0\" class=\"data row0 col0\" >1</td>\n",
       "      <td id=\"T_a067a_row0_col1\" class=\"data row0 col1\" >0.8046</td>\n",
       "      <td id=\"T_a067a_row0_col2\" class=\"data row0 col2\" >ベクトルデータベースには、効率的な検索のためにHNSWのような近似最近傍検索アルゴリズムを採用しているものがあります。</td>\n",
       "    </tr>\n",
       "    <tr>\n",
       "      <th id=\"T_a067a_level0_row1\" class=\"row_heading level0 row1\" >1</th>\n",
       "      <td id=\"T_a067a_row1_col0\" class=\"data row1 col0\" >2</td>\n",
       "      <td id=\"T_a067a_row1_col1\" class=\"data row1 col1\" >0.7724</td>\n",
       "      <td id=\"T_a067a_row1_col2\" class=\"data row1 col2\" >近似最近傍検索は、高次元空間内で与えられたクエリポイントに最も近い（最も類似した）データポイントを効率的に見つけるアルゴリズムです。</td>\n",
       "    </tr>\n",
       "    <tr>\n",
       "      <th id=\"T_a067a_level0_row2\" class=\"row_heading level0 row2\" >2</th>\n",
       "      <td id=\"T_a067a_row2_col0\" class=\"data row2 col0\" >3</td>\n",
       "      <td id=\"T_a067a_row2_col1\" class=\"data row2 col1\" >0.7482</td>\n",
       "      <td id=\"T_a067a_row2_col2\" class=\"data row2 col2\" >ベクトルデータベースは、データをベクトル（数値の配列）として表現し、ベクトル間の類似性に基づいて検索や分析を行うことに特化したデータベースシステムです。</td>\n",
       "    </tr>\n",
       "    <tr>\n",
       "      <th id=\"T_a067a_level0_row3\" class=\"row_heading level0 row3\" >3</th>\n",
       "      <td id=\"T_a067a_row3_col0\" class=\"data row3 col0\" >4</td>\n",
       "      <td id=\"T_a067a_row3_col1\" class=\"data row3 col1\" >0.6855</td>\n",
       "      <td id=\"T_a067a_row3_col2\" class=\"data row3 col2\" >著名なベクトルデータベースには、ChromaDB、Faiss、Pinecone、Annoy、Oracle Database 23ai AI Vector Search などがあります。</td>\n",
       "    </tr>\n",
       "    <tr>\n",
       "      <th id=\"T_a067a_level0_row4\" class=\"row_heading level0 row4\" >4</th>\n",
       "      <td id=\"T_a067a_row4_col0\" class=\"data row4 col0\" >5</td>\n",
       "      <td id=\"T_a067a_row4_col1\" class=\"data row4 col1\" >0.5484</td>\n",
       "      <td id=\"T_a067a_row4_col2\" class=\"data row4 col2\" >Oracle Databaseとは、米国オラクル が開発・販売している、リレーショナル・データベース管理システム のことです</td>\n",
       "    </tr>\n",
       "  </tbody>\n",
       "</table>\n"
      ],
      "text/plain": [
       "<pandas.io.formats.style.Styler at 0x19cb2302210>"
      ]
     },
     "metadata": {},
     "output_type": "display_data"
    }
   ],
   "source": [
    "# スコアとドキュメントをデータフレームに変換\n",
    "#top_n = len(documents)\n",
    "top_n = 5\n",
    "top_doc_idxs = np.argsort(-scores)[:top_n]\n",
    "\n",
    "df = pd.DataFrame({\n",
    "    'ランク': range(1, top_n + 1),\n",
    "    'スコア': [f\"{scores[i]:.4f}\" for i in top_doc_idxs],\n",
    "    'ドキュメント': [documents[i] for i in top_doc_idxs]\n",
    "})\n",
    "# スコアの最小値と最大値に基づいて色付けを行う\n",
    "def color_scale(val):\n",
    "    score = float(val)\n",
    "    color = f'background-color: rgba(255, 99, 71, {score:.2f})'  # 赤色のグラデーション\n",
    "    return color\n",
    "\n",
    "# データフレームを表示（ヒートマップスタイル）\n",
    "display(df.style\n",
    "        .map(color_scale, subset=['スコア']) \n",
    "        .set_properties(**{'text-align': 'left'})\n",
    "        .set_table_styles([\n",
    "            {'selector': 'th', 'props': [('text-align', 'left'), ('font-weight', 'bold'), ('white-space', 'nowrap')]},\n",
    "            {'selector': '.row_heading, .blank', 'props': [('display', 'none')]},\n",
    "            {'selector': 'td', 'props': [('padding', '5px')]}\n",
    "        ]))"
   ]
  },
  {
   "cell_type": "markdown",
   "metadata": {},
   "source": [
    "## 類似性検索のデモ（4） - クロスリンガル（言語跨りの）類似性検索"
   ]
  },
  {
   "cell_type": "markdown",
   "metadata": {},
   "source": [
    "### クエリーの埋め込み処理"
   ]
  },
  {
   "cell_type": "markdown",
   "metadata": {},
   "source": [
    "#### クエリーの定義"
   ]
  },
  {
   "cell_type": "code",
   "execution_count": 27,
   "metadata": {},
   "outputs": [],
   "source": [
    "query1 = [\"What is a vector database?\"]\n",
    "#query1 = [\"¿Qué es una base de datos vectorial?\"] #スペイン語"
   ]
  },
  {
   "cell_type": "markdown",
   "metadata": {},
   "source": [
    "#### クエリー1の埋め込み生成"
   ]
  },
  {
   "cell_type": "code",
   "execution_count": 28,
   "metadata": {},
   "outputs": [],
   "source": [
    "embed_text_detail.input_type = \"SEARCH_QUERY\" # 検索クエリー\n",
    "embed_text_detail.inputs = query1\n",
    "query_embedding1 = generative_ai_inference_client.embed_text(embed_text_detail)\n",
    "# レスポンスオブジェクトから埋め込みベクトルを抽出\n",
    "query_vector1 = np.array(query_embedding1.data.embeddings[0])"
   ]
  },
  {
   "cell_type": "markdown",
   "metadata": {},
   "source": [
    "### 類似性検索の実行"
   ]
  },
  {
   "cell_type": "markdown",
   "metadata": {},
   "source": [
    "#### 類似度スコア（コサイン類似度）の計算"
   ]
  },
  {
   "cell_type": "code",
   "execution_count": 29,
   "metadata": {},
   "outputs": [],
   "source": [
    "# 類似度スコアの計算\n",
    "scores = np.dot(query_vector1, np.transpose(doc_embedding_vectors))"
   ]
  },
  {
   "cell_type": "markdown",
   "metadata": {},
   "source": [
    "#### 結果の表示（上位5件）"
   ]
  },
  {
   "cell_type": "code",
   "execution_count": 30,
   "metadata": {},
   "outputs": [
    {
     "data": {
      "text/html": [
       "<style type=\"text/css\">\n",
       "#T_d006f th {\n",
       "  text-align: left;\n",
       "  font-weight: bold;\n",
       "  white-space: nowrap;\n",
       "}\n",
       "#T_d006f .row_heading {\n",
       "  display: none;\n",
       "}\n",
       "#T_d006f  .blank {\n",
       "  display: none;\n",
       "}\n",
       "#T_d006f td {\n",
       "  padding: 5px;\n",
       "}\n",
       "#T_d006f_row0_col0, #T_d006f_row0_col2, #T_d006f_row1_col0, #T_d006f_row1_col2, #T_d006f_row2_col0, #T_d006f_row2_col2, #T_d006f_row3_col0, #T_d006f_row3_col2, #T_d006f_row4_col0, #T_d006f_row4_col2 {\n",
       "  text-align: left;\n",
       "}\n",
       "#T_d006f_row0_col1 {\n",
       "  background-color: rgba(255, 99, 71, 0.57);\n",
       "  text-align: left;\n",
       "}\n",
       "#T_d006f_row1_col1 {\n",
       "  background-color: rgba(255, 99, 71, 0.53);\n",
       "  text-align: left;\n",
       "}\n",
       "#T_d006f_row2_col1 {\n",
       "  background-color: rgba(255, 99, 71, 0.47);\n",
       "  text-align: left;\n",
       "}\n",
       "#T_d006f_row3_col1 {\n",
       "  background-color: rgba(255, 99, 71, 0.41);\n",
       "  text-align: left;\n",
       "}\n",
       "#T_d006f_row4_col1 {\n",
       "  background-color: rgba(255, 99, 71, 0.30);\n",
       "  text-align: left;\n",
       "}\n",
       "</style>\n",
       "<table id=\"T_d006f\">\n",
       "  <thead>\n",
       "    <tr>\n",
       "      <th class=\"blank level0\" >&nbsp;</th>\n",
       "      <th id=\"T_d006f_level0_col0\" class=\"col_heading level0 col0\" >ランク</th>\n",
       "      <th id=\"T_d006f_level0_col1\" class=\"col_heading level0 col1\" >スコア</th>\n",
       "      <th id=\"T_d006f_level0_col2\" class=\"col_heading level0 col2\" >ドキュメント</th>\n",
       "    </tr>\n",
       "  </thead>\n",
       "  <tbody>\n",
       "    <tr>\n",
       "      <th id=\"T_d006f_level0_row0\" class=\"row_heading level0 row0\" >0</th>\n",
       "      <td id=\"T_d006f_row0_col0\" class=\"data row0 col0\" >1</td>\n",
       "      <td id=\"T_d006f_row0_col1\" class=\"data row0 col1\" >0.5700</td>\n",
       "      <td id=\"T_d006f_row0_col2\" class=\"data row0 col2\" >ベクトルデータベースは、データをベクトル（数値の配列）として表現し、ベクトル間の類似性に基づいて検索や分析を行うことに特化したデータベースシステムです。</td>\n",
       "    </tr>\n",
       "    <tr>\n",
       "      <th id=\"T_d006f_level0_row1\" class=\"row_heading level0 row1\" >1</th>\n",
       "      <td id=\"T_d006f_row1_col0\" class=\"data row1 col0\" >2</td>\n",
       "      <td id=\"T_d006f_row1_col1\" class=\"data row1 col1\" >0.5264</td>\n",
       "      <td id=\"T_d006f_row1_col2\" class=\"data row1 col2\" >著名なベクトルデータベースには、ChromaDB、Faiss、Pinecone、Annoy、Oracle Database 23ai AI Vector Search などがあります。</td>\n",
       "    </tr>\n",
       "    <tr>\n",
       "      <th id=\"T_d006f_level0_row2\" class=\"row_heading level0 row2\" >2</th>\n",
       "      <td id=\"T_d006f_row2_col0\" class=\"data row2 col0\" >3</td>\n",
       "      <td id=\"T_d006f_row2_col1\" class=\"data row2 col1\" >0.4734</td>\n",
       "      <td id=\"T_d006f_row2_col2\" class=\"data row2 col2\" >Oracle Databaseとは、米国オラクル が開発・販売している、リレーショナル・データベース管理システム のことです</td>\n",
       "    </tr>\n",
       "    <tr>\n",
       "      <th id=\"T_d006f_level0_row3\" class=\"row_heading level0 row3\" >3</th>\n",
       "      <td id=\"T_d006f_row3_col0\" class=\"data row3 col0\" >4</td>\n",
       "      <td id=\"T_d006f_row3_col1\" class=\"data row3 col1\" >0.4087</td>\n",
       "      <td id=\"T_d006f_row3_col2\" class=\"data row3 col2\" >ベクトルデータベースには、効率的な検索のためにHNSWのような近似最近傍検索アルゴリズムを採用しているものがあります。</td>\n",
       "    </tr>\n",
       "    <tr>\n",
       "      <th id=\"T_d006f_level0_row4\" class=\"row_heading level0 row4\" >4</th>\n",
       "      <td id=\"T_d006f_row4_col0\" class=\"data row4 col0\" >5</td>\n",
       "      <td id=\"T_d006f_row4_col1\" class=\"data row4 col1\" >0.3009</td>\n",
       "      <td id=\"T_d006f_row4_col2\" class=\"data row4 col2\" >COBIT 2019は政府のデジタル・ガバメント計画を支えるガバナンス態勢を整備する際の最適な枠組みです。</td>\n",
       "    </tr>\n",
       "  </tbody>\n",
       "</table>\n"
      ],
      "text/plain": [
       "<pandas.io.formats.style.Styler at 0x19cb2302210>"
      ]
     },
     "metadata": {},
     "output_type": "display_data"
    }
   ],
   "source": [
    "# スコアとドキュメントをデータフレームに変換\n",
    "#top_n = len(documents)\n",
    "top_n = 5\n",
    "top_doc_idxs = np.argsort(-scores)[:top_n]\n",
    "\n",
    "df = pd.DataFrame({\n",
    "    'ランク': range(1, top_n + 1),\n",
    "    'スコア': [f\"{scores[i]:.4f}\" for i in top_doc_idxs],\n",
    "    'ドキュメント': [documents[i] for i in top_doc_idxs]\n",
    "})\n",
    "# スコアの最小値と最大値に基づいて色付けを行う\n",
    "def color_scale(val):\n",
    "    score = float(val)\n",
    "    color = f'background-color: rgba(255, 99, 71, {score:.2f})'  # 赤色のグラデーション\n",
    "    return color\n",
    "\n",
    "# データフレームを表示（ヒートマップスタイル）\n",
    "display(df.style\n",
    "        .map(color_scale, subset=['スコア']) \n",
    "        .set_properties(**{'text-align': 'left'})\n",
    "        .set_table_styles([\n",
    "            {'selector': 'th', 'props': [('text-align', 'left'), ('font-weight', 'bold'), ('white-space', 'nowrap')]},\n",
    "            {'selector': '.row_heading, .blank', 'props': [('display', 'none')]},\n",
    "            {'selector': 'td', 'props': [('padding', '5px')]}\n",
    "        ]))"
   ]
  },
  {
   "cell_type": "markdown",
   "metadata": {},
   "source": [
    "## 類似性検索のデモ（5） - 多言語混在ドキュメントの類似性検索"
   ]
  },
  {
   "cell_type": "markdown",
   "metadata": {},
   "source": [
    "### 検索対象のドキュメントの定義"
   ]
  },
  {
   "cell_type": "code",
   "execution_count": 31,
   "metadata": {},
   "outputs": [],
   "source": [
    "documents = [\n",
    "    \"COVID-19には多くの症状があります。\",\n",
    "    \"COVID-19の症状は悪いです。\",\n",
    "    \"COVID-19の症状は良くありません\",\n",
    "    \"COVID-19の症状はいろいろです\",\n",
    "    \"COVID-19の症状は悪いです。5Gの機能には、より広範なサービスカバレッジ、より多くの利用可能な接続数、および低電力消費が含まれます。\",\n",
    "    \"COVID-19はウイルスによって引き起こされる病気です。最も一般的な症状は発熱、悪寒、および喉の痛みですが、他にもさまざまな症状があります。\",\n",
    "    \"COVID-19の症状には、発熱や悪寒、新しい持続的な咳、嗅覚や味覚の喪失や変化など、さまざまな症状が含まれます。\",\n",
    "    \"認知症には以下の症状があります。記憶喪失、判断力の低下、および混乱を経験すること。\",\n",
    "    \"COVID-19には以下の症状があります。記憶喪失、判断力の低下、および混乱を経験すること。\",\n",
    "    \"COBIT 2019は政府のデジタル・ガバメント計画を支えるガバナンス態勢を整備する際の最適な枠組みです。\",\n",
    "    \"新型コロナ感染症の症状には、発熱や悪寒、新しい持続的な咳、嗅覚や味覚の喪失や変化など、さまざまな症状が含まれます。\",\n",
    "    \"鳥インフルエンザの症状には、高熱、咳、筋肉の痛み、倦怠感、頭痛、その他の症状が含まれます。\",\n",
    "    \"COVID-19は、SARS-CoV-2（新型コロナウイルス）によって引き起こされる感染症です。2019年12月に最初に確認され、その後、世界的なパンデミックとなりました。症状としては、発熱、咳、息切れ、倦怠感、嗅覚や味覚の喪失などがあります。また、感染経路は、主に飛沫感染と接触感染ですが、空気感染の可能性もあります。高齢者や基礎疾患のある方は重症化リスクが高く、死亡率も高いとされています。COVID-19に対しては、ワクチン接種や手洗い、マスク着用、ソーシャルディスタンスなどの予防措置が推奨されています。パンデミックは世界中の医療システムや経済に大きな影響を与えました。\",\n",
    "    \"SGDs（持続可能な開発目標）は、2015年に国連加盟国によって採択された「持続可能な開発のための2030アジェンダ」の中核を成す17の国際目標です。\",\n",
    "    \"ベクトルデータベースは、データをベクトル（数値の配列）として表現し、ベクトル間の類似性に基づいて検索や分析を行うことに特化したデータベースシステムです。\",\n",
    "    \"著名なベクトルデータベースには、ChromaDB、Faiss、Pinecone、Annoy、Oracle Database 23ai AI Vector Search などがあります。\",\n",
    "    \"ベクトルデータベースには、効率的な検索のためにHNSWのような近似最近傍検索アルゴリズムを採用しているものがあります。\",\n",
    "    \"近似最近傍検索は、高次元空間内で与えられたクエリポイントに最も近い（最も類似した）データポイントを効率的に見つけるアルゴリズムです。\",\n",
    "    \"Oracle Databaseとは、米国オラクル が開発・販売している、リレーショナル・データベース管理システム のことです\",\n",
    "    \"COVID-19 has many symptoms.\",\n",
    "    \"The symptoms of COVID-19 are bad.\",\n",
    "    \"The symptoms of COVID-19 are not good.\",\n",
    "    \"The symptoms of COVID-19 are various.\",\n",
    "    \"The symptoms of COVID-19 are bad. The features of 5G include broader service coverage, more available connections, and low power consumption.\",\n",
    "    \"COVID-19 is a disease caused by a virus. The most common symptoms are fever, chills, and sore throat, but there are various other symptoms as well.\",\n",
    "    \"Symptoms of COVID-19 include various symptoms such as fever, chills, new persistent cough, and loss or change in sense of smell or taste.\",\n",
    "    \"Dementia has the following symptoms: experiencing memory loss, decreased judgment, and confusion.\",\n",
    "    \"COVID-19 has the following symptoms: experiencing memory loss, decreased judgment, and confusion.\",\n",
    "    \"COBIT 2019 is the optimal framework for establishing governance systems that support government digital government plans.\",\n",
    "    \"Symptoms of novel coronavirus infection include various symptoms such as fever, chills, new persistent cough, and loss or change in sense of smell or taste.\",\n",
    "    \"Symptoms of bird flu include high fever, cough, muscle pain, fatigue, headache, and other symptoms.\",\n",
    "    \"COVID-19 is an infectious disease caused by SARS-CoV-2 (novel coronavirus). It was first identified in December 2019 and subsequently became a global pandemic. Symptoms include fever, cough, shortness of breath, fatigue, and loss of smell or taste. The infection routes are mainly droplet transmission and contact transmission, but airborne transmission is also possible. Elderly people and those with underlying medical conditions have a higher risk of severe illness and mortality. Preventive measures recommended for COVID-19 include vaccination, hand washing, wearing masks, and social distancing. The pandemic has had a significant impact on healthcare systems and economies worldwide.\",\n",
    "    \"SGDs (Sustainable Development Goals) are 17 international goals that form the core of the '2030 Agenda for Sustainable Development' adopted by United Nations member states in 2015.\",\n",
    "    \"A vector database is a database system specialized in representing data as vectors (arrays of numbers) and performing searches and analyses based on similarities between vectors.\",\n",
    "    \"Notable vector databases include ChromaDB, Faiss, Pinecone, Annoy, Oracle Database 23ai AI Vector Search, and others.\",\n",
    "    \"Some vector databases employ approximate nearest neighbor search algorithms such as HNSW for efficient searching.\",\n",
    "    \"Approximate nearest neighbor search is an algorithm that efficiently finds the closest (most similar) data points to a given query point in high-dimensional space.\",\n",
    "    \"Oracle Database is a relational database management system developed and sold by Oracle Corporation in the United States.\"\n",
    "]"
   ]
  },
  {
   "cell_type": "code",
   "execution_count": 32,
   "metadata": {},
   "outputs": [],
   "source": [
    "embed_text_detail.inputs = documents"
   ]
  },
  {
   "cell_type": "markdown",
   "metadata": {},
   "source": [
    "### ドキュメントの埋め込み実行"
   ]
  },
  {
   "cell_type": "code",
   "execution_count": 33,
   "metadata": {},
   "outputs": [],
   "source": [
    "embed_text_detail.input_type = \"SEARCH_DOCUMENT\" # 検索対象のドキュメント\n",
    "doc_embedding = generative_ai_inference_client.embed_text(embed_text_detail)\n",
    "# レスポンスオブジェクトから埋め込みベクトルを抽出\n",
    "doc_embedding_vectors = np.array([embed for embed in doc_embedding.data.embeddings])"
   ]
  },
  {
   "cell_type": "code",
   "execution_count": 34,
   "metadata": {},
   "outputs": [
    {
     "name": "stdout",
     "output_type": "stream",
     "text": [
      "埋め込みの数:38\n",
      "埋め込みの次元数:1024\n"
     ]
    }
   ],
   "source": [
    "print(f\"埋め込みの数:{len(doc_embedding.data.embeddings)}\")\n",
    "print(f\"埋め込みの次元数:{len(doc_embedding.data.embeddings[0])}\")"
   ]
  },
  {
   "cell_type": "code",
   "execution_count": 35,
   "metadata": {},
   "outputs": [
    {
     "name": "stdout",
     "output_type": "stream",
     "text": [
      "1件目の埋め込み (最初の5要素):[-9.942055e-05, -0.00111866, 0.038757324, -0.0029335022, 0.007183075]\n"
     ]
    }
   ],
   "source": [
    "print(f\"1件目の埋め込み (最初の5要素):{doc_embedding.data.embeddings[0][:5]}\")"
   ]
  },
  {
   "cell_type": "markdown",
   "metadata": {},
   "source": [
    "### クエリーの埋め込み処理"
   ]
  },
  {
   "cell_type": "markdown",
   "metadata": {},
   "source": [
    "#### クエリーの定義"
   ]
  },
  {
   "cell_type": "code",
   "execution_count": 36,
   "metadata": {},
   "outputs": [],
   "source": [
    "query1 = [\"ベクトルデータベースとは？\"]"
   ]
  },
  {
   "cell_type": "markdown",
   "metadata": {},
   "source": [
    "#### クエリー1の埋め込み生成"
   ]
  },
  {
   "cell_type": "code",
   "execution_count": 37,
   "metadata": {},
   "outputs": [],
   "source": [
    "embed_text_detail.input_type = \"SEARCH_QUERY\" # 検索クエリー\n",
    "embed_text_detail.inputs = query1\n",
    "query_embedding1 = generative_ai_inference_client.embed_text(embed_text_detail)\n",
    "# レスポンスオブジェクトから埋め込みベクトルを抽出\n",
    "query_vector1 = np.array(query_embedding1.data.embeddings[0])"
   ]
  },
  {
   "cell_type": "markdown",
   "metadata": {},
   "source": [
    "### 類似性検索の実行"
   ]
  },
  {
   "cell_type": "markdown",
   "metadata": {},
   "source": [
    "#### 類似度スコア（コサイン類似度）の計算"
   ]
  },
  {
   "cell_type": "code",
   "execution_count": 38,
   "metadata": {},
   "outputs": [],
   "source": [
    "scores = np.dot(query_vector1, np.transpose(doc_embedding_vectors))"
   ]
  },
  {
   "cell_type": "markdown",
   "metadata": {},
   "source": [
    "#### 類似度順に並べ替えて上位5件を抽出"
   ]
  },
  {
   "cell_type": "code",
   "execution_count": 39,
   "metadata": {},
   "outputs": [],
   "source": [
    "#top_n = len(documents)\n",
    "top_n = 5\n",
    "top_doc_idxs = np.argsort(-scores)[:top_n] # scores の要素を降順にソートしてインデックスを返す"
   ]
  },
  {
   "cell_type": "markdown",
   "metadata": {},
   "source": [
    "#### 結果の表示"
   ]
  },
  {
   "cell_type": "code",
   "execution_count": 40,
   "metadata": {},
   "outputs": [
    {
     "data": {
      "text/html": [
       "<style type=\"text/css\">\n",
       "#T_2ffcf th {\n",
       "  text-align: left;\n",
       "  font-weight: bold;\n",
       "  white-space: nowrap;\n",
       "}\n",
       "#T_2ffcf .row_heading {\n",
       "  display: none;\n",
       "}\n",
       "#T_2ffcf  .blank {\n",
       "  display: none;\n",
       "}\n",
       "#T_2ffcf td {\n",
       "  padding: 5px;\n",
       "}\n",
       "#T_2ffcf_row0_col0, #T_2ffcf_row0_col2, #T_2ffcf_row1_col0, #T_2ffcf_row1_col2, #T_2ffcf_row2_col0, #T_2ffcf_row2_col2, #T_2ffcf_row3_col0, #T_2ffcf_row3_col2, #T_2ffcf_row4_col0, #T_2ffcf_row4_col2 {\n",
       "  text-align: left;\n",
       "}\n",
       "#T_2ffcf_row0_col1 {\n",
       "  background-color: rgba(255, 99, 71, 0.82);\n",
       "  text-align: left;\n",
       "}\n",
       "#T_2ffcf_row1_col1 {\n",
       "  background-color: rgba(255, 99, 71, 0.77);\n",
       "  text-align: left;\n",
       "}\n",
       "#T_2ffcf_row2_col1 {\n",
       "  background-color: rgba(255, 99, 71, 0.66);\n",
       "  text-align: left;\n",
       "}\n",
       "#T_2ffcf_row3_col1, #T_2ffcf_row4_col1 {\n",
       "  background-color: rgba(255, 99, 71, 0.57);\n",
       "  text-align: left;\n",
       "}\n",
       "</style>\n",
       "<table id=\"T_2ffcf\">\n",
       "  <thead>\n",
       "    <tr>\n",
       "      <th class=\"blank level0\" >&nbsp;</th>\n",
       "      <th id=\"T_2ffcf_level0_col0\" class=\"col_heading level0 col0\" >ランク</th>\n",
       "      <th id=\"T_2ffcf_level0_col1\" class=\"col_heading level0 col1\" >スコア</th>\n",
       "      <th id=\"T_2ffcf_level0_col2\" class=\"col_heading level0 col2\" >ドキュメント</th>\n",
       "    </tr>\n",
       "  </thead>\n",
       "  <tbody>\n",
       "    <tr>\n",
       "      <th id=\"T_2ffcf_level0_row0\" class=\"row_heading level0 row0\" >0</th>\n",
       "      <td id=\"T_2ffcf_row0_col0\" class=\"data row0 col0\" >1</td>\n",
       "      <td id=\"T_2ffcf_row0_col1\" class=\"data row0 col1\" >0.8246</td>\n",
       "      <td id=\"T_2ffcf_row0_col2\" class=\"data row0 col2\" >ベクトルデータベースは、データをベクトル（数値の配列）として表現し、ベクトル間の類似性に基づいて検索や分析を行うことに特化したデータベースシステムです。</td>\n",
       "    </tr>\n",
       "    <tr>\n",
       "      <th id=\"T_2ffcf_level0_row1\" class=\"row_heading level0 row1\" >1</th>\n",
       "      <td id=\"T_2ffcf_row1_col0\" class=\"data row1 col0\" >2</td>\n",
       "      <td id=\"T_2ffcf_row1_col1\" class=\"data row1 col1\" >0.7663</td>\n",
       "      <td id=\"T_2ffcf_row1_col2\" class=\"data row1 col2\" >著名なベクトルデータベースには、ChromaDB、Faiss、Pinecone、Annoy、Oracle Database 23ai AI Vector Search などがあります。</td>\n",
       "    </tr>\n",
       "    <tr>\n",
       "      <th id=\"T_2ffcf_level0_row2\" class=\"row_heading level0 row2\" >2</th>\n",
       "      <td id=\"T_2ffcf_row2_col0\" class=\"data row2 col0\" >3</td>\n",
       "      <td id=\"T_2ffcf_row2_col1\" class=\"data row2 col1\" >0.6603</td>\n",
       "      <td id=\"T_2ffcf_row2_col2\" class=\"data row2 col2\" >ベクトルデータベースには、効率的な検索のためにHNSWのような近似最近傍検索アルゴリズムを採用しているものがあります。</td>\n",
       "    </tr>\n",
       "    <tr>\n",
       "      <th id=\"T_2ffcf_level0_row3\" class=\"row_heading level0 row3\" >3</th>\n",
       "      <td id=\"T_2ffcf_row3_col0\" class=\"data row3 col0\" >4</td>\n",
       "      <td id=\"T_2ffcf_row3_col1\" class=\"data row3 col1\" >0.5681</td>\n",
       "      <td id=\"T_2ffcf_row3_col2\" class=\"data row3 col2\" >Oracle Databaseとは、米国オラクル が開発・販売している、リレーショナル・データベース管理システム のことです</td>\n",
       "    </tr>\n",
       "    <tr>\n",
       "      <th id=\"T_2ffcf_level0_row4\" class=\"row_heading level0 row4\" >4</th>\n",
       "      <td id=\"T_2ffcf_row4_col0\" class=\"data row4 col0\" >5</td>\n",
       "      <td id=\"T_2ffcf_row4_col1\" class=\"data row4 col1\" >0.5670</td>\n",
       "      <td id=\"T_2ffcf_row4_col2\" class=\"data row4 col2\" >A vector database is a database system specialized in representing data as vectors (arrays of numbers) and performing searches and analyses based on similarities between vectors.</td>\n",
       "    </tr>\n",
       "  </tbody>\n",
       "</table>\n"
      ],
      "text/plain": [
       "<pandas.io.formats.style.Styler at 0x19cb182ec90>"
      ]
     },
     "metadata": {},
     "output_type": "display_data"
    }
   ],
   "source": [
    "# Pandas Dataframe を使って結果を表示\n",
    "df = pd.DataFrame({\n",
    "    'ランク': range(1, top_n + 1),\n",
    "    'スコア': [f\"{scores[i]:.4f}\" for i in top_doc_idxs],\n",
    "    'ドキュメント': [documents[i] for i in top_doc_idxs]\n",
    "})\n",
    "# スコアの最小値と最大値に基づいて色付けを行う\n",
    "def color_scale(val):\n",
    "    score = float(val)\n",
    "    color = f'background-color: rgba(255, 99, 71, {score:.2f})'  # 赤色のグラデーション\n",
    "    return color\n",
    "\n",
    "# データフレームを表示（ヒートマップスタイル）\n",
    "display(df.style\n",
    "        .map(color_scale, subset=['スコア']) \n",
    "        .set_properties(**{'text-align': 'left'})\n",
    "        .set_table_styles([\n",
    "            {'selector': 'th', 'props': [('text-align', 'left'), ('font-weight', 'bold'), ('white-space', 'nowrap')]},\n",
    "            {'selector': '.row_heading, .blank', 'props': [('display', 'none')]},\n",
    "            {'selector': 'td', 'props': [('padding', '5px')]}\n",
    "        ]))"
   ]
  },
  {
   "cell_type": "markdown",
   "metadata": {},
   "source": [
    "## 類似性検索のデモ（6） - ドキュメントの品質の考慮"
   ]
  },
  {
   "cell_type": "markdown",
   "metadata": {},
   "source": [
    "### 検索対象のドキュメントの定義"
   ]
  },
  {
   "cell_type": "code",
   "execution_count": 50,
   "metadata": {},
   "outputs": [],
   "source": [
    "documents = [\n",
    "    \"COVID-19には多くの症状があります。\",\n",
    "    \"COVID-19の症状は悪いです。\",\n",
    "    \"COVID-19の症状は良くありません\",\n",
    "    \"COVID-19の症状はいろいろです\",\n",
    "    \"COVID-19の症状は悪いです。5Gの機能には、より広範なサービスカバレッジ、より多くの利用可能な接続数、および低電力消費が含まれます。\",\n",
    "    \"COVID-19はウイルスによって引き起こされる病気です。最も一般的な症状は発熱、悪寒、および喉の痛みですが、他にもさまざまな症状があります。\",\n",
    "    \"COVID-19の症状には、発熱や悪寒、新しい持続的な咳、嗅覚や味覚の喪失や変化など、さまざまな症状が含まれます。\",\n",
    "    \"認知症には以下の症状があります。記憶喪失、判断力の低下、および混乱を経験すること。\",\n",
    "    \"COVID-19には以下の症状があります。記憶喪失、判断力の低下、および混乱を経験すること。\",\n",
    "    \"COBIT 2019は政府のデジタル・ガバメント計画を支えるガバナンス態勢を整備する際の最適な枠組みです。\",\n",
    "    \"新型コロナ感染症の症状には、発熱や悪寒、新しい持続的な咳、嗅覚や味覚の喪失や変化など、さまざまな症状が含まれます。\",\n",
    "    \"鳥インフルエンザの症状には、高熱、咳、筋肉の痛み、倦怠感、頭痛、その他の症状が含まれます。\",\n",
    "    \"COVID-19は、SARS-CoV-2（新型コロナウイルス）によって引き起こされる感染症です。2019年12月に最初に確認され、その後、世界的なパンデミックとなりました。症状としては、発熱、咳、息切れ、倦怠感、嗅覚や味覚の喪失などがあります。また、感染経路は、主に飛沫感染と接触感染ですが、空気感染の可能性もあります。高齢者や基礎疾患のある方は重症化リスクが高く、死亡率も高いとされています。COVID-19に対しては、ワクチン接種や手洗い、マスク着用、ソーシャルディスタンスなどの予防措置が推奨されています。パンデミックは世界中の医療システムや経済に大きな影響を与えました。\",\n",
    "    \"SGDs（持続可能な開発目標）は、2015年に国連加盟国によって採択された「持続可能な開発のための2030アジェンダ」の中核を成す17の国際目標です。\",\n",
    "    \"ベクトルデータベースは、データをベクトル（数値の配列）として表現し、ベクトル間の類似性に基づいて検索や分析を行うことに特化したデータベースシステムです。\",\n",
    "    \"著名なベクトルデータベースには、ChromaDB、Faiss、Pinecone、Annoy、Oracle Database 23ai AI Vector Search などがあります。\",\n",
    "    \"ベクトルデータベースには、効率的な検索のためにHNSWのような近似最近傍検索アルゴリズムを採用しているものがあります。\",\n",
    "    \"近似最近傍検索は、高次元空間内で与えられたクエリポイントに最も近い（最も類似した）データポイントを効率的に見つけるアルゴリズムです。\",\n",
    "    \"Oracle Databaseとは、米国オラクル が開発・販売している、リレーショナル・データベース管理システム のことです\"\n",
    "]"
   ]
  },
  {
   "cell_type": "code",
   "execution_count": 51,
   "metadata": {},
   "outputs": [],
   "source": [
    "embed_text_detail.inputs = documents"
   ]
  },
  {
   "cell_type": "markdown",
   "metadata": {},
   "source": [
    "### ドキュメントの埋め込み実行"
   ]
  },
  {
   "cell_type": "code",
   "execution_count": 52,
   "metadata": {},
   "outputs": [],
   "source": [
    "embed_text_detail.input_type = \"SEARCH_DOCUMENT\" # 検索対象のドキュメント\n",
    "#embed_text_detail.input_type = \"SEARCH_QUERY\" # 検索対象のドキュメント\n",
    "doc_embedding = generative_ai_inference_client.embed_text(embed_text_detail)\n",
    "# レスポンスオブジェクトから埋め込みベクトルを抽出\n",
    "doc_embedding_vectors = np.array([embed for embed in doc_embedding.data.embeddings])"
   ]
  },
  {
   "cell_type": "code",
   "execution_count": 53,
   "metadata": {},
   "outputs": [
    {
     "name": "stdout",
     "output_type": "stream",
     "text": [
      "埋め込みの数:19\n",
      "埋め込みの次元数:1024\n"
     ]
    }
   ],
   "source": [
    "print(f\"埋め込みの数:{len(doc_embedding.data.embeddings)}\")\n",
    "print(f\"埋め込みの次元数:{len(doc_embedding.data.embeddings[0])}\")"
   ]
  },
  {
   "cell_type": "code",
   "execution_count": 54,
   "metadata": {},
   "outputs": [
    {
     "name": "stdout",
     "output_type": "stream",
     "text": [
      "1件目の埋め込み (最初の5要素):[-0.0001835823, -0.0014657974, 0.03866577, -0.0029411316, 0.006828308]\n"
     ]
    }
   ],
   "source": [
    "print(f\"1件目の埋め込み (最初の5要素):{doc_embedding.data.embeddings[0][:5]}\")"
   ]
  },
  {
   "cell_type": "markdown",
   "metadata": {},
   "source": [
    "### クエリーの埋め込み処理"
   ]
  },
  {
   "cell_type": "markdown",
   "metadata": {},
   "source": [
    "#### クエリーの定義"
   ]
  },
  {
   "cell_type": "code",
   "execution_count": 55,
   "metadata": {},
   "outputs": [],
   "source": [
    "query1 = [\"COVID-19の症状は？\"]"
   ]
  },
  {
   "cell_type": "markdown",
   "metadata": {},
   "source": [
    "#### クエリー1の埋め込み生成"
   ]
  },
  {
   "cell_type": "code",
   "execution_count": 56,
   "metadata": {},
   "outputs": [],
   "source": [
    "embed_text_detail.input_type = \"SEARCH_QUERY\" # 検索クエリー\n",
    "embed_text_detail.inputs = query1\n",
    "query_embedding1 = generative_ai_inference_client.embed_text(embed_text_detail)\n",
    "# レスポンスオブジェクトから埋め込みベクトルを抽出\n",
    "query_vector1 = np.array(query_embedding1.data.embeddings[0])"
   ]
  },
  {
   "cell_type": "markdown",
   "metadata": {},
   "source": [
    "### 類似性検索の実行"
   ]
  },
  {
   "cell_type": "markdown",
   "metadata": {},
   "source": [
    "#### 類似度スコア（コサイン類似度）の計算"
   ]
  },
  {
   "cell_type": "code",
   "execution_count": 57,
   "metadata": {},
   "outputs": [],
   "source": [
    "# 類似度スコアの計算\n",
    "scores = np.dot(query_vector1, np.transpose(doc_embedding_vectors))"
   ]
  },
  {
   "cell_type": "markdown",
   "metadata": {},
   "source": [
    "#### 結果の表示（上位5件）"
   ]
  },
  {
   "cell_type": "code",
   "execution_count": 58,
   "metadata": {},
   "outputs": [
    {
     "data": {
      "text/html": [
       "<style type=\"text/css\">\n",
       "#T_b92ef th {\n",
       "  text-align: left;\n",
       "  font-weight: bold;\n",
       "  white-space: nowrap;\n",
       "}\n",
       "#T_b92ef .row_heading {\n",
       "  display: none;\n",
       "}\n",
       "#T_b92ef  .blank {\n",
       "  display: none;\n",
       "}\n",
       "#T_b92ef td {\n",
       "  padding: 5px;\n",
       "}\n",
       "#T_b92ef_row0_col0, #T_b92ef_row0_col2, #T_b92ef_row1_col0, #T_b92ef_row1_col2, #T_b92ef_row2_col0, #T_b92ef_row2_col2, #T_b92ef_row3_col0, #T_b92ef_row3_col2, #T_b92ef_row4_col0, #T_b92ef_row4_col2 {\n",
       "  text-align: left;\n",
       "}\n",
       "#T_b92ef_row0_col1 {\n",
       "  background-color: rgba(255, 99, 71, 0.80);\n",
       "  text-align: left;\n",
       "}\n",
       "#T_b92ef_row1_col1 {\n",
       "  background-color: rgba(255, 99, 71, 0.79);\n",
       "  text-align: left;\n",
       "}\n",
       "#T_b92ef_row2_col1 {\n",
       "  background-color: rgba(255, 99, 71, 0.78);\n",
       "  text-align: left;\n",
       "}\n",
       "#T_b92ef_row3_col1, #T_b92ef_row4_col1 {\n",
       "  background-color: rgba(255, 99, 71, 0.74);\n",
       "  text-align: left;\n",
       "}\n",
       "</style>\n",
       "<table id=\"T_b92ef\">\n",
       "  <thead>\n",
       "    <tr>\n",
       "      <th class=\"blank level0\" >&nbsp;</th>\n",
       "      <th id=\"T_b92ef_level0_col0\" class=\"col_heading level0 col0\" >ランク</th>\n",
       "      <th id=\"T_b92ef_level0_col1\" class=\"col_heading level0 col1\" >スコア</th>\n",
       "      <th id=\"T_b92ef_level0_col2\" class=\"col_heading level0 col2\" >ドキュメント</th>\n",
       "    </tr>\n",
       "  </thead>\n",
       "  <tbody>\n",
       "    <tr>\n",
       "      <th id=\"T_b92ef_level0_row0\" class=\"row_heading level0 row0\" >0</th>\n",
       "      <td id=\"T_b92ef_row0_col0\" class=\"data row0 col0\" >1</td>\n",
       "      <td id=\"T_b92ef_row0_col1\" class=\"data row0 col1\" >0.7968</td>\n",
       "      <td id=\"T_b92ef_row0_col2\" class=\"data row0 col2\" >COVID-19の症状には、発熱や悪寒、新しい持続的な咳、嗅覚や味覚の喪失や変化など、さまざまな症状が含まれます。</td>\n",
       "    </tr>\n",
       "    <tr>\n",
       "      <th id=\"T_b92ef_level0_row1\" class=\"row_heading level0 row1\" >1</th>\n",
       "      <td id=\"T_b92ef_row1_col0\" class=\"data row1 col0\" >2</td>\n",
       "      <td id=\"T_b92ef_row1_col1\" class=\"data row1 col1\" >0.7868</td>\n",
       "      <td id=\"T_b92ef_row1_col2\" class=\"data row1 col2\" >COVID-19には以下の症状があります。記憶喪失、判断力の低下、および混乱を経験すること。</td>\n",
       "    </tr>\n",
       "    <tr>\n",
       "      <th id=\"T_b92ef_level0_row2\" class=\"row_heading level0 row2\" >2</th>\n",
       "      <td id=\"T_b92ef_row2_col0\" class=\"data row2 col0\" >3</td>\n",
       "      <td id=\"T_b92ef_row2_col1\" class=\"data row2 col1\" >0.7763</td>\n",
       "      <td id=\"T_b92ef_row2_col2\" class=\"data row2 col2\" >COVID-19はウイルスによって引き起こされる病気です。最も一般的な症状は発熱、悪寒、および喉の痛みですが、他にもさまざまな症状があります。</td>\n",
       "    </tr>\n",
       "    <tr>\n",
       "      <th id=\"T_b92ef_level0_row3\" class=\"row_heading level0 row3\" >3</th>\n",
       "      <td id=\"T_b92ef_row3_col0\" class=\"data row3 col0\" >4</td>\n",
       "      <td id=\"T_b92ef_row3_col1\" class=\"data row3 col1\" >0.7398</td>\n",
       "      <td id=\"T_b92ef_row3_col2\" class=\"data row3 col2\" >COVID-19には多くの症状があります。</td>\n",
       "    </tr>\n",
       "    <tr>\n",
       "      <th id=\"T_b92ef_level0_row4\" class=\"row_heading level0 row4\" >4</th>\n",
       "      <td id=\"T_b92ef_row4_col0\" class=\"data row4 col0\" >5</td>\n",
       "      <td id=\"T_b92ef_row4_col1\" class=\"data row4 col1\" >0.7379</td>\n",
       "      <td id=\"T_b92ef_row4_col2\" class=\"data row4 col2\" >新型コロナ感染症の症状には、発熱や悪寒、新しい持続的な咳、嗅覚や味覚の喪失や変化など、さまざまな症状が含まれます。</td>\n",
       "    </tr>\n",
       "  </tbody>\n",
       "</table>\n"
      ],
      "text/plain": [
       "<pandas.io.formats.style.Styler at 0x19cb24d3850>"
      ]
     },
     "metadata": {},
     "output_type": "display_data"
    }
   ],
   "source": [
    "# スコアとドキュメントをデータフレームに変換\n",
    "#top_n = len(documents)\n",
    "top_n = 5\n",
    "top_doc_idxs = np.argsort(-scores)[:top_n]\n",
    "\n",
    "df = pd.DataFrame({\n",
    "    'ランク': range(1, top_n + 1),\n",
    "    'スコア': [f\"{scores[i]:.4f}\" for i in top_doc_idxs],\n",
    "    'ドキュメント': [documents[i] for i in top_doc_idxs]\n",
    "})\n",
    "# スコアの最小値と最大値に基づいて色付けを行う\n",
    "def color_scale(val):\n",
    "    score = float(val)\n",
    "    color = f'background-color: rgba(255, 99, 71, {score:.2f})'  # 赤色のグラデーション\n",
    "    return color\n",
    "\n",
    "# データフレームを表示（ヒートマップスタイル）\n",
    "display(df.style\n",
    "        .map(color_scale, subset=['スコア']) \n",
    "        .set_properties(**{'text-align': 'left'})\n",
    "        .set_table_styles([\n",
    "            {'selector': 'th', 'props': [('text-align', 'left'), ('font-weight', 'bold'), ('white-space', 'nowrap')]},\n",
    "            {'selector': '.row_heading, .blank', 'props': [('display', 'none')]},\n",
    "            {'selector': 'td', 'props': [('padding', '5px')]}\n",
    "        ]))"
   ]
  },
  {
   "cell_type": "code",
   "execution_count": null,
   "metadata": {},
   "outputs": [],
   "source": []
  }
 ],
 "metadata": {
  "kernelspec": {
   "display_name": ".venv",
   "language": "python",
   "name": "python3"
  },
  "language_info": {
   "codemirror_mode": {
    "name": "ipython",
    "version": 3
   },
   "file_extension": ".py",
   "mimetype": "text/x-python",
   "name": "python",
   "nbconvert_exporter": "python",
   "pygments_lexer": "ipython3",
   "version": "3.11.9"
  }
 },
 "nbformat": 4,
 "nbformat_minor": 2
}
